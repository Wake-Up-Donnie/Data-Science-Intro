{
 "cells": [
  {
   "cell_type": "markdown",
   "metadata": {},
   "source": [
    "# DAT210x - Programming with Python for DS"
   ]
  },
  {
   "cell_type": "markdown",
   "metadata": {},
   "source": [
    "## Module2 - Lab3"
   ]
  },
  {
   "cell_type": "code",
   "execution_count": 4,
   "metadata": {
    "collapsed": true
   },
   "outputs": [],
   "source": [
    "# Import and alias Pandas\n",
    "import pandas as pd"
   ]
  },
  {
   "cell_type": "markdown",
   "metadata": {},
   "source": [
    "Often, you will want to load a dataset that is missing explicit header labels. You won't know if your data lacks headers or not unless you load it up and examine the headers to see if they make sense. Pandas by default reads in the first row of data as the header. If that isn't the case for your specific data set, you will lose your first data row. Be careful!\n",
    "\n",
    "Load up the `Servo.data` dataset. Examine the headers, and adjust them as necessary, if need be."
   ]
  },
  {
   "cell_type": "code",
   "execution_count": 11,
   "metadata": {},
   "outputs": [
    {
     "name": "stdout",
     "output_type": "stream",
     "text": [
      "    motor screw  pgain  vgain     class\n",
      "0       E     E      5      4  0.281251\n",
      "1       B     D      6      5  0.506252\n",
      "2       D     D      4      3  0.356251\n",
      "3       B     A      3      2  5.500033\n",
      "4       D     B      6      5  0.356251\n",
      "5       E     C      4      3  0.806255\n",
      "6       C     A      3      2  5.100014\n",
      "7       A     A      3      2  5.700042\n",
      "8       C     A      6      5  0.768754\n",
      "9       D     A      4      1  1.031254\n",
      "10      B     E      6      5  0.468752\n",
      "11      E     C      5      4  0.393752\n",
      "12      B     C      4      1  0.281251\n",
      "13      E     C      3      1  1.100000\n",
      "14      C     C      5      4  0.506252\n",
      "15      E     B      3      2  1.899990\n",
      "16      D     C      3      1  0.900001\n",
      "17      B     C      5      4  0.468752\n",
      "18      B     B      5      4  0.543753\n",
      "19      C     E      4      2  0.206250\n",
      "20      E     D      4      3  0.918755\n",
      "21      A     D      4      3  1.106248\n",
      "22      B     C      6      5  0.468752\n",
      "23      A     C      4      2  0.581253\n",
      "24      A     B      6      5  0.581253\n",
      "25      E     C      6      5  0.393752\n",
      "26      A     A      3      1  5.300024\n",
      "27      A     E      4      2  0.468752\n",
      "28      C     D      3      2  1.899990\n",
      "29      B     B      3      2  4.299977\n",
      "..    ...   ...    ...    ...       ...\n",
      "137     A     C      5      4  0.506252\n",
      "138     B     E      4      1  0.206250\n",
      "139     C     B      3      1  3.899964\n",
      "140     E     E      4      2  0.506252\n",
      "141     B     E      4      3  1.106248\n",
      "142     A     E      3      1  3.899964\n",
      "143     A     B      4      2  0.806255\n",
      "144     A     C      3      1  3.899964\n",
      "145     E     C      3      2  1.499995\n",
      "146     B     A      3      1  5.100014\n",
      "147     D     D      3      2  1.499995\n",
      "148     A     C      3      2  4.699995\n",
      "149     E     A      4      1  0.881255\n",
      "150     B     A      5      4  0.806255\n",
      "151     E     E      3      1  0.700001\n",
      "152     D     E      3      2  0.900001\n",
      "153     E     B      3      1  1.499995\n",
      "154     A     D      4      1  0.243751\n",
      "155     A     D      3      1  4.099967\n",
      "156     E     B      4      3  0.993756\n",
      "157     A     B      3      1  4.699995\n",
      "158     D     B      4      3  0.581253\n",
      "159     A     A      5      4  0.806255\n",
      "160     D     A      3      2  2.699979\n",
      "161     C     E      6      5  0.468752\n",
      "162     B     C      3      2  4.499986\n",
      "163     B     E      3      1  3.699967\n",
      "164     C     D      4      3  0.956256\n",
      "165     A     B      3      2  4.499986\n",
      "166     A     A      6      5  0.806255\n",
      "\n",
      "[167 rows x 5 columns]\n"
     ]
    }
   ],
   "source": [
    "from pandas.compat import StringIO\n",
    "df = pd.read_csv(\"Datasets/Servo.data\", sep=',', names=['motor', 'screw', 'pgain', 'vgain', 'class'])\n",
    "print (df)\n",
    "\n"
   ]
  },
  {
   "cell_type": "markdown",
   "metadata": {},
   "source": [
    "Let's try experimenting with some slicing. Create a slice that contains all entries that have a vgain equal to 5. Then print the length of (# of samples in) that slice:"
   ]
  },
  {
   "cell_type": "code",
   "execution_count": 16,
   "metadata": {},
   "outputs": [
    {
     "name": "stdout",
     "output_type": "stream",
     "text": [
      "22\n"
     ]
    }
   ],
   "source": [
    "vgainEqualsFive = df[df.vgain == 5]\n",
    "print (len(vgainEqualsFive))"
   ]
  },
  {
   "cell_type": "markdown",
   "metadata": {},
   "source": [
    "Create a slice that contains all entries having a motor equal to E and screw equal to E. Then print the length of (# of samples in) that slice:"
   ]
  },
  {
   "cell_type": "code",
   "execution_count": 25,
   "metadata": {},
   "outputs": [
    {
     "name": "stdout",
     "output_type": "stream",
     "text": [
      "    motor screw  pgain  vgain     class\n",
      "0       E     E      5      4  0.281251\n",
      "35      E     E      3      2  1.100000\n",
      "86      E     E      4      3  0.843755\n",
      "132     E     E      6      5  0.281251\n",
      "140     E     E      4      2  0.506252\n",
      "151     E     E      3      1  0.700001\n",
      "6\n"
     ]
    }
   ],
   "source": [
    "motorAndScrewFive = df[(df.motor == 'E') & (df.screw == 'E') ]\n",
    "print (motorAndScrewFive)\n",
    "print (len(motorAndScrewFive))"
   ]
  },
  {
   "cell_type": "markdown",
   "metadata": {},
   "source": [
    "Create a slice that contains all entries having a pgain equal to 4. Use one of the various methods of finding the mean vgain value for the samples in that slice. Once you've found it, print it:"
   ]
  },
  {
   "cell_type": "code",
   "execution_count": 27,
   "metadata": {},
   "outputs": [
    {
     "name": "stdout",
     "output_type": "stream",
     "text": [
      "    motor screw  pgain  vgain     class\n",
      "2       D     D      4      3  0.356251\n",
      "5       E     C      4      3  0.806255\n",
      "9       D     A      4      1  1.031254\n",
      "12      B     C      4      1  0.281251\n",
      "19      C     E      4      2  0.206250\n",
      "20      E     D      4      3  0.918755\n",
      "21      A     D      4      3  1.106248\n",
      "23      A     C      4      2  0.581253\n",
      "27      A     E      4      2  0.468752\n",
      "30      B     E      4      2  0.356251\n",
      "32      C     E      4      1  0.543753\n",
      "37      E     C      4      2  0.131250\n",
      "39      C     D      4      1  0.206250\n",
      "40      D     B      4      1  0.693754\n",
      "41      C     B      4      3  0.881255\n",
      "42      C     C      4      3  0.918755\n",
      "43      B     D      4      1  0.243751\n",
      "45      A     B      4      3  1.031254\n",
      "46      B     A      4      1  0.806255\n",
      "47      E     D      4      2  0.431252\n",
      "54      B     B      4      2  0.731254\n",
      "55      A     E      4      3  1.143746\n",
      "56      A     A      4      2  0.881255\n",
      "57      B     D      4      3  1.031254\n",
      "59      B     C      4      3  0.956256\n",
      "60      E     B      4      2  0.581253\n",
      "64      D     A      4      3  0.731254\n",
      "65      C     B      4      2  0.506252\n",
      "69      B     D      4      2  0.393752\n",
      "71      D     A      4      2  0.281251\n",
      "..    ...   ...    ...    ...       ...\n",
      "92      A     A      4      3  1.106248\n",
      "94      A     E      4      1  0.243751\n",
      "97      C     B      4      1  0.431252\n",
      "99      B     B      4      3  0.993756\n",
      "100     B     C      4      2  0.506252\n",
      "104     C     C      4      1  0.243751\n",
      "105     C     D      4      2  0.243751\n",
      "106     E     B      4      1  1.181243\n",
      "111     C     A      4      1  0.731254\n",
      "113     B     A      4      3  1.068751\n",
      "114     E     A      4      3  1.218740\n",
      "115     A     A      4      1  0.843755\n",
      "116     A     C      4      3  0.993756\n",
      "118     E     A      4      2  0.993756\n",
      "120     B     B      4      1  0.581253\n",
      "121     C     A      4      2  0.768754\n",
      "125     C     A      4      3  1.031254\n",
      "131     D     C      4      3  0.543753\n",
      "133     D     B      4      2  0.356251\n",
      "134     A     D      4      2  0.468752\n",
      "136     A     B      4      1  0.618753\n",
      "138     B     E      4      1  0.206250\n",
      "140     E     E      4      2  0.506252\n",
      "141     B     E      4      3  1.106248\n",
      "143     A     B      4      2  0.806255\n",
      "149     E     A      4      1  0.881255\n",
      "154     A     D      4      1  0.243751\n",
      "156     E     B      4      3  0.993756\n",
      "158     D     B      4      3  0.581253\n",
      "164     C     D      4      3  0.956256\n",
      "\n",
      "[66 rows x 5 columns]\n"
     ]
    },
    {
     "data": {
      "text/html": [
       "<div>\n",
       "<style>\n",
       "    .dataframe thead tr:only-child th {\n",
       "        text-align: right;\n",
       "    }\n",
       "\n",
       "    .dataframe thead th {\n",
       "        text-align: left;\n",
       "    }\n",
       "\n",
       "    .dataframe tbody tr th {\n",
       "        vertical-align: top;\n",
       "    }\n",
       "</style>\n",
       "<table border=\"1\" class=\"dataframe\">\n",
       "  <thead>\n",
       "    <tr style=\"text-align: right;\">\n",
       "      <th></th>\n",
       "      <th>pgain</th>\n",
       "      <th>vgain</th>\n",
       "      <th>class</th>\n",
       "    </tr>\n",
       "  </thead>\n",
       "  <tbody>\n",
       "    <tr>\n",
       "      <th>count</th>\n",
       "      <td>66.0</td>\n",
       "      <td>66.000000</td>\n",
       "      <td>66.000000</td>\n",
       "    </tr>\n",
       "    <tr>\n",
       "      <th>mean</th>\n",
       "      <td>4.0</td>\n",
       "      <td>2.060606</td>\n",
       "      <td>0.673298</td>\n",
       "    </tr>\n",
       "    <tr>\n",
       "      <th>std</th>\n",
       "      <td>0.0</td>\n",
       "      <td>0.820484</td>\n",
       "      <td>0.314105</td>\n",
       "    </tr>\n",
       "    <tr>\n",
       "      <th>min</th>\n",
       "      <td>4.0</td>\n",
       "      <td>1.000000</td>\n",
       "      <td>0.131250</td>\n",
       "    </tr>\n",
       "    <tr>\n",
       "      <th>25%</th>\n",
       "      <td>4.0</td>\n",
       "      <td>1.000000</td>\n",
       "      <td>0.365627</td>\n",
       "    </tr>\n",
       "    <tr>\n",
       "      <th>50%</th>\n",
       "      <td>4.0</td>\n",
       "      <td>2.000000</td>\n",
       "      <td>0.712504</td>\n",
       "    </tr>\n",
       "    <tr>\n",
       "      <th>75%</th>\n",
       "      <td>4.0</td>\n",
       "      <td>3.000000</td>\n",
       "      <td>0.956256</td>\n",
       "    </tr>\n",
       "    <tr>\n",
       "      <th>max</th>\n",
       "      <td>4.0</td>\n",
       "      <td>3.000000</td>\n",
       "      <td>1.218740</td>\n",
       "    </tr>\n",
       "  </tbody>\n",
       "</table>\n",
       "</div>"
      ],
      "text/plain": [
       "       pgain      vgain      class\n",
       "count   66.0  66.000000  66.000000\n",
       "mean     4.0   2.060606   0.673298\n",
       "std      0.0   0.820484   0.314105\n",
       "min      4.0   1.000000   0.131250\n",
       "25%      4.0   1.000000   0.365627\n",
       "50%      4.0   2.000000   0.712504\n",
       "75%      4.0   3.000000   0.956256\n",
       "max      4.0   3.000000   1.218740"
      ]
     },
     "execution_count": 27,
     "metadata": {},
     "output_type": "execute_result"
    }
   ],
   "source": [
    "pgainEqualsFour = df[df.pgain == 4]\n",
    "print (pgainEqualsFour)\n",
    "pgainEqualsFour.describe()"
   ]
  },
  {
   "cell_type": "markdown",
   "metadata": {
    "collapsed": true
   },
   "source": [
    "Here's a bonus activity for you. See what happens when you display the `.dtypes` property of your dataframe!"
   ]
  },
  {
   "cell_type": "code",
   "execution_count": 30,
   "metadata": {},
   "outputs": [
    {
     "data": {
      "text/plain": [
       "motor     object\n",
       "screw     object\n",
       "pgain      int64\n",
       "vgain      int64\n",
       "class    float64\n",
       "dtype: object"
      ]
     },
     "execution_count": 30,
     "metadata": {},
     "output_type": "execute_result"
    }
   ],
   "source": [
    "df.dtypes"
   ]
  }
 ],
 "metadata": {
  "anaconda-cloud": {},
  "kernelspec": {
   "display_name": "Python 3",
   "language": "python",
   "name": "python3"
  },
  "language_info": {
   "codemirror_mode": {
    "name": "ipython",
    "version": 3
   },
   "file_extension": ".py",
   "mimetype": "text/x-python",
   "name": "python",
   "nbconvert_exporter": "python",
   "pygments_lexer": "ipython3",
   "version": "3.4.2"
  },
  "toc": {
   "colors": {
    "hover_highlight": "#DAA520",
    "running_highlight": "#FF0000",
    "selected_highlight": "#FFD700"
   },
   "moveMenuLeft": true,
   "nav_menu": {
    "height": "58px",
    "width": "251px"
   },
   "navigate_menu": true,
   "number_sections": true,
   "sideBar": true,
   "threshold": 4,
   "toc_cell": false,
   "toc_section_display": "block",
   "toc_window_display": false,
   "widenNotebook": false
  }
 },
 "nbformat": 4,
 "nbformat_minor": 2
}
