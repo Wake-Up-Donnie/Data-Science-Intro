{
 "cells": [
  {
   "cell_type": "code",
   "execution_count": 122,
   "metadata": {},
   "outputs": [
    {
     "name": "stdout",
     "output_type": "stream",
     "text": [
      "     user gender  age  how_tall_in_meters  weight  body_mass_index  x1  y1  \\\n",
      "0  debora  Woman   46                1.62      75             28.6  -3  92   \n",
      "1  debora  Woman   46                1.62      75             28.6  -3  94   \n",
      "2  debora  Woman   46                1.62      75             28.6  -1  97   \n",
      "3  debora  Woman   46                1.62      75             28.6  -2  96   \n",
      "4  debora  Woman   46                1.62      75             28.6  -1  96   \n",
      "\n",
      "   z1  x2  y2  z2  x3   y3  z3   x4   y4    z4    class  \n",
      "0 -63 -23  18 -19   5  104 -92 -150 -103  -147  sitting  \n",
      "1 -64 -21  18 -18 -14  104 -90 -149 -104  -145  sitting  \n",
      "2 -61 -12  20 -15 -13  104 -90 -151 -104  -144  sitting  \n",
      "3 -57 -15  21 -16 -13  104 -89 -153 -103  -142  sitting  \n",
      "4 -61 -13  20 -15 -13  104 -89 -153 -104  -143  sitting  \n"
     ]
    },
    {
     "name": "stderr",
     "output_type": "stream",
     "text": [
      "/Library/Frameworks/Python.framework/Versions/3.4/lib/python3.4/site-packages/IPython/core/interactiveshell.py:2698: DtypeWarning: Columns (17) have mixed types. Specify dtype option on import or set low_memory=False.\n",
      "  interactivity=interactivity, compiler=compiler, result=result)\n"
     ]
    }
   ],
   "source": [
    "import pandas as pd\n",
    "import time\n",
    "from sklearn.ensemble import RandomForestClassifier\n",
    "from sklearn.model_selection import train_test_split\n",
    "# http://groupware.les.inf.puc-rio.br/har\n",
    "# http://groupware.les.inf.puc-rio.br/static/har/dataset-har-PUC-Rio-ugulino.zip\n",
    "X = pd.read_csv(\"Datasets/dataset-har-PUC-Rio-ugulino.csv\", sep = \";\", decimal=\",\")\n",
    "print (X.head())"
   ]
  },
  {
   "cell_type": "code",
   "execution_count": 123,
   "metadata": {},
   "outputs": [
    {
     "name": "stdout",
     "output_type": "stream",
     "text": [
      "Empty DataFrame\n",
      "Columns: [user, gender, age, how_tall_in_meters, weight, body_mass_index, x1, y1, z1, x2, y2, z2, x3, y3, z3, x4, y4, z4, class]\n",
      "Index: []\n"
     ]
    }
   ],
   "source": [
    "print (X[pd.isnull(X).any(axis=1)])"
   ]
  },
  {
   "cell_type": "code",
   "execution_count": 124,
   "metadata": {},
   "outputs": [],
   "source": [
    "#Encode the gender column, 0 as male, 1 as female\n",
    "X.gender = X.gender.map({'Man': 0, 'Woman': 1})   "
   ]
  },
  {
   "cell_type": "code",
   "execution_count": 125,
   "metadata": {},
   "outputs": [],
   "source": [
    "X.z4 = pd.to_numeric(X.z4, errors='coerce')"
   ]
  },
  {
   "cell_type": "code",
   "execution_count": 126,
   "metadata": {},
   "outputs": [
    {
     "name": "stdout",
     "output_type": "stream",
     "text": [
      "               user  gender  age  how_tall_in_meters  weight  body_mass_index  \\\n",
      "122076  jose_carlos       0   75                1.67      67             24.0   \n",
      "\n",
      "        x1   y1   z1  x2  y2   z2  x3   y3   z3   x4  y4  z4       class  \n",
      "122076  -8  101 -120 -13  91 -101  17  123 -108 -207 -82 NaN  standingup  \n",
      "Empty DataFrame\n",
      "Columns: [user, gender, age, how_tall_in_meters, weight, body_mass_index, x1, y1, z1, x2, y2, z2, x3, y3, z3, x4, y4, z4, class]\n",
      "Index: []\n"
     ]
    }
   ],
   "source": [
    "print (X[pd.isnull(X).any(axis=1)])\n",
    "X = X.dropna(axis=0)\n",
    "print (X[pd.isnull(X).any(axis=1)])\n",
    "y = X[['class']]\n",
    "X = X.drop(\"class\", axis = 1)\n",
    "y = pd.get_dummies(y, columns = ['class'])"
   ]
  },
  {
   "cell_type": "code",
   "execution_count": 127,
   "metadata": {},
   "outputs": [
    {
     "name": "stdout",
     "output_type": "stream",
     "text": [
      "        gender  age  how_tall_in_meters  weight  body_mass_index  x1   y1  \\\n",
      "0            1   46                1.62      75             28.6  -3   92   \n",
      "1            1   46                1.62      75             28.6  -3   94   \n",
      "2            1   46                1.62      75             28.6  -1   97   \n",
      "3            1   46                1.62      75             28.6  -2   96   \n",
      "4            1   46                1.62      75             28.6  -1   96   \n",
      "5            1   46                1.62      75             28.6  -2   95   \n",
      "6            1   46                1.62      75             28.6   1  100   \n",
      "7            1   46                1.62      75             28.6  -1   97   \n",
      "8            1   46                1.62      75             28.6  -1   98   \n",
      "9            1   46                1.62      75             28.6   0   98   \n",
      "10           1   46                1.62      75             28.6  -1   95   \n",
      "11           1   46                1.62      75             28.6   3  100   \n",
      "12           1   46                1.62      75             28.6   0   96   \n",
      "13           1   46                1.62      75             28.6   0   97   \n",
      "14           1   46                1.62      75             28.6   0   97   \n",
      "15           1   46                1.62      75             28.6  -1   96   \n",
      "16           1   46                1.62      75             28.6   2   99   \n",
      "17           1   46                1.62      75             28.6   0   96   \n",
      "18           1   46                1.62      75             28.6   0   97   \n",
      "19           1   46                1.62      75             28.6   0   98   \n",
      "20           1   46                1.62      75             28.6  -1   95   \n",
      "21           1   46                1.62      75             28.6   1   99   \n",
      "22           1   46                1.62      75             28.6  -3   96   \n",
      "23           1   46                1.62      75             28.6  -1   97   \n",
      "24           1   46                1.62      75             28.6   1   97   \n",
      "25           1   46                1.62      75             28.6  -3   96   \n",
      "26           1   46                1.62      75             28.6   3  100   \n",
      "27           1   46                1.62      75             28.6  -4   95   \n",
      "28           1   46                1.62      75             28.6   1  100   \n",
      "29           1   46                1.62      75             28.6   0   96   \n",
      "...        ...  ...                 ...     ...              ...  ..  ...   \n",
      "165603       0   75                1.67      67             24.0 -39  147   \n",
      "165604       0   75                1.67      67             24.0   7  109   \n",
      "165605       0   75                1.67      67             24.0 -18  110   \n",
      "165606       0   75                1.67      67             24.0   3  112   \n",
      "165607       0   75                1.67      67             24.0  -3   69   \n",
      "165608       0   75                1.67      67             24.0 -35   71   \n",
      "165609       0   75                1.67      67             24.0 -26  120   \n",
      "165610       0   75                1.67      67             24.0  13   66   \n",
      "165611       0   75                1.67      67             24.0 -22  106   \n",
      "165612       0   75                1.67      67             24.0   8  114   \n",
      "165613       0   75                1.67      67             24.0  -7   99   \n",
      "165614       0   75                1.67      67             24.0 -14  117   \n",
      "165615       0   75                1.67      67             24.0  -6  103   \n",
      "165616       0   75                1.67      67             24.0 -17   84   \n",
      "165617       0   75                1.67      67             24.0 -11   87   \n",
      "165618       0   75                1.67      67             24.0  -4   88   \n",
      "165619       0   75                1.67      67             24.0  -8   85   \n",
      "165620       0   75                1.67      67             24.0   1   92   \n",
      "165621       0   75                1.67      67             24.0  -1   91   \n",
      "165622       0   75                1.67      67             24.0  -2   94   \n",
      "165623       0   75                1.67      67             24.0  -3   96   \n",
      "165624       0   75                1.67      67             24.0 -10   94   \n",
      "165625       0   75                1.67      67             24.0  -8   94   \n",
      "165626       0   75                1.67      67             24.0  -6   96   \n",
      "165627       0   75                1.67      67             24.0 -13   94   \n",
      "165628       0   75                1.67      67             24.0   2   93   \n",
      "165629       0   75                1.67      67             24.0  -1   94   \n",
      "165630       0   75                1.67      67             24.0 -10   93   \n",
      "165631       0   75                1.67      67             24.0 -15   86   \n",
      "165632       0   75                1.67      67             24.0 -14   86   \n",
      "\n",
      "         z1  x2   y2   z2   x3   y3   z3   x4   y4     z4  \n",
      "0       -63 -23   18  -19    5  104  -92 -150 -103 -147.0  \n",
      "1       -64 -21   18  -18  -14  104  -90 -149 -104 -145.0  \n",
      "2       -61 -12   20  -15  -13  104  -90 -151 -104 -144.0  \n",
      "3       -57 -15   21  -16  -13  104  -89 -153 -103 -142.0  \n",
      "4       -61 -13   20  -15  -13  104  -89 -153 -104 -143.0  \n",
      "5       -62 -14   19  -16  -13  104  -89 -153 -104 -142.0  \n",
      "6       -62 -10   22  -12  -13  104  -90 -151 -104 -143.0  \n",
      "7       -63 -13   20  -15  -12  104  -88 -151 -104 -142.0  \n",
      "8       -63 -14   19  -17  -13  104  -90 -152 -103 -144.0  \n",
      "9       -61 -11   22  -13  -13  104  -90 -151 -104 -144.0  \n",
      "10      -60 -13   19  -17  -13  105  -89 -150 -104 -144.0  \n",
      "11      -59 -10   22  -13  -13  104  -90 -150 -103 -144.0  \n",
      "12      -61 -14   20  -15  -12  105  -88 -149 -104 -145.0  \n",
      "13      -61 -14   20  -17  -13  104  -90 -149 -104 -146.0  \n",
      "14      -60 -13   21  -14  -12  105  -89 -149 -104 -145.0  \n",
      "15      -61 -13   19  -17  -13  104  -89 -149 -106 -145.0  \n",
      "16      -60 -10   22  -12  -13  104  -90 -150 -103 -145.0  \n",
      "17      -62 -14   20  -15  -12  105  -89 -150 -104 -144.0  \n",
      "18      -61 -14   19  -16  -13  105  -89 -148 -102 -146.0  \n",
      "19      -63 -12   21  -13  -13  104  -89 -148 -105 -146.0  \n",
      "20      -62 -15   19  -17  -13  104  -89 -144 -105 -143.0  \n",
      "21      -62 -11   22  -13  -14  104  -90 -146 -106 -145.0  \n",
      "22      -62 -14   20  -16  -12  105  -88 -154 -108 -138.0  \n",
      "23      -62 -14   19  -17  -13  105  -90 -146 -109 -139.0  \n",
      "24      -61 -11   21  -14  -13  104  -90 -148 -112 -142.0  \n",
      "25      -63 -16   19  -17  -13  104  -90 -155 -101 -141.0  \n",
      "26      -61  -8   23  -12  -13  104  -90 -157  -97 -142.0  \n",
      "27      -63 -15   19  -17  -13  105  -89 -169  -96 -143.0  \n",
      "28      -63 -10   22  -13  -14  104  -91 -177  -99 -133.0  \n",
      "29      -64 -13   20  -16  -13  105  -88 -189 -104 -141.0  \n",
      "...     ...  ..  ...  ...  ...  ...  ...  ...  ...    ...  \n",
      "165603 -198   4  133  -40  -79  136  -28 -188  -95 -157.0  \n",
      "165604 -154  15   98  -69  -99  229   42 -181  -85 -147.0  \n",
      "165605 -138  -4   97  -99 -109  170  -96 -186  -95 -154.0  \n",
      "165606 -139   8   95  -74 -123  226 -117 -191  -74 -152.0  \n",
      "165607 -180 -33  105 -105  -43  168 -127 -197  -39 -144.0  \n",
      "165608 -187 -47   91  -93    2  189 -127 -169  -27 -146.0  \n",
      "165609 -153 -31  106  -95  199  174 -152 -192  -77 -147.0  \n",
      "165610 -181 -46   93  -86  -47  159 -128 -206  -44 -142.0  \n",
      "165611 -189 -27  131  -76 -142  180  -57 -205 -113 -147.0  \n",
      "165612 -174 -36   86 -112   13  170 -130 -172 -106 -123.0  \n",
      "165613 -139 -22   78 -104   11  179  -78 -197  -96 -135.0  \n",
      "165614 -155 -23   98  -85 -126  161  -70 -184 -108 -154.0  \n",
      "165615 -157  -6   95 -117    5  120 -127 -194  -77 -159.0  \n",
      "165616 -157 -10   83 -122    4  116 -117 -198  -76 -156.0  \n",
      "165617 -153  -7   87 -115    8  117 -114 -202  -81 -162.0  \n",
      "165618 -158   1   88  -98   10  119 -119 -190  -73 -160.0  \n",
      "165619 -154  -3   94 -106   13  123 -117 -194  -79 -163.0  \n",
      "165620 -154  -2   84 -104   12  121 -128 -198  -79 -165.0  \n",
      "165621 -154  -5   72  -83    9  118 -122 -200  -80 -164.0  \n",
      "165622 -147   6   73  -89    9  118 -120 -201  -78 -165.0  \n",
      "165623 -147   6   81  -90   15  120 -118 -200  -80 -166.0  \n",
      "165624 -149 -10   87  -95   12  121 -117 -189  -81 -159.0  \n",
      "165625 -150  -8   89 -104   14  119 -101 -193  -77 -153.0  \n",
      "165626 -142  -2   91 -103   14  121 -102 -194  -78 -156.0  \n",
      "165627 -150 -13   88  -98   16  120  -99 -194  -79 -157.0  \n",
      "165628 -148  -8   88 -100   15  120 -100 -189  -77 -160.0  \n",
      "165629 -147 -17   87  -99   17  121  -99 -190  -78 -158.0  \n",
      "165630 -143 -19   86 -104    0  114 -101 -185  -80 -153.0  \n",
      "165631 -152 -19   88 -117  -44  155  -25 -185  -84 -156.0  \n",
      "165632 -144 -18   85 -107   -3  114 -128 -210  -88 -148.0  \n",
      "\n",
      "[165632 rows x 17 columns]\n"
     ]
    }
   ],
   "source": [
    "X = X.drop(\"user\", axis = 1)\n",
    "print (X)"
   ]
  },
  {
   "cell_type": "code",
   "execution_count": 128,
   "metadata": {},
   "outputs": [],
   "source": [
    "model = RandomForestClassifier(n_estimators = 30, max_depth=10, oob_score=True, random_state=0)\n",
    "X_train, X_test, y_train, y_test = train_test_split(X, y, test_size = .3, random_state = 7)"
   ]
  },
  {
   "cell_type": "code",
   "execution_count": 129,
   "metadata": {},
   "outputs": [
    {
     "name": "stdout",
     "output_type": "stream",
     "text": [
      "Fitting...\n",
      "Fitting completed in:  14.524221897125244\n",
      "OOB Score:  98.744\n",
      "Scoring...\n",
      "Score:  95.687\n",
      "Scoring completed in:  0.9099218845367432\n"
     ]
    }
   ],
   "source": [
    "print (\"Fitting...\")\n",
    "s = time.time()\n",
    "model.fit(X_train, y_train)\n",
    "print (\"Fitting completed in: \", time.time() - s)\n",
    "score = model.oob_score_\n",
    "print (\"OOB Score: \", round(score*100, 3))\n",
    "print (\"Scoring...\")\n",
    "s = time.time()\n",
    "score = model.score(X_test,y_test)\n",
    "print (\"Score: \", round(score*100, 3))\n",
    "print (\"Scoring completed in: \", time.time() - s)\n"
   ]
  }
 ],
 "metadata": {
  "kernelspec": {
   "display_name": "Python 3",
   "language": "python",
   "name": "python3"
  },
  "language_info": {
   "codemirror_mode": {
    "name": "ipython",
    "version": 3
   },
   "file_extension": ".py",
   "mimetype": "text/x-python",
   "name": "python",
   "nbconvert_exporter": "python",
   "pygments_lexer": "ipython3",
   "version": "3.4.2"
  }
 },
 "nbformat": 4,
 "nbformat_minor": 2
}
