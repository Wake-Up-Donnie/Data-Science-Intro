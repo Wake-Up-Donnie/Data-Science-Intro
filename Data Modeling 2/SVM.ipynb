{
 "cells": [
  {
   "cell_type": "code",
   "execution_count": 5,
   "metadata": {
    "collapsed": true
   },
   "outputs": [],
   "source": [
    "import pandas as pd\n",
    "from sklearn.svm import SVC\n",
    "import math\n",
    "import matplotlib.pyplot as plt\n",
    "from sklearn import svm"
   ]
  },
  {
   "cell_type": "code",
   "execution_count": 6,
   "metadata": {
    "collapsed": true
   },
   "outputs": [],
   "source": [
    "def load(path_test, path_train):\n",
    "  # Load up the data.\n",
    "  # You probably could have written this..\n",
    "  with open(path_test, 'r')  as f: testing  = pd.read_csv(f)\n",
    "  with open(path_train, 'r') as f: training = pd.read_csv(f)\n",
    "\n",
    "  # The number of samples between training and testing can vary\n",
    "  # But the number of features better remain the same!\n",
    "  n_features = testing.shape[1]\n",
    "\n",
    "  X_test  = testing.ix[:,:n_features-1]\n",
    "  X_train = training.ix[:,:n_features-1]\n",
    "  y_test  = testing.ix[:,n_features-1:].values.ravel()\n",
    "  y_train = training.ix[:,n_features-1:].values.ravel()\n",
    "\n",
    "  #\n",
    "  # Special:\n",
    "  X_train = X_train[:int(len(X_train.index)*.04)]\n",
    "  y_train = y_train[:int(math.ceil(y_train.shape[0]) * .04)]\n",
    "  return X_train, X_test, y_train, y_test\n",
    "\n",
    "\n",
    "def peekData(X_train):\n",
    "  # The 'targets' or labels are stored in y. The 'samples' or data is stored in X\n",
    "  print (\"Peeking your data...\")\n",
    "  fig = plt.figure()\n",
    "\n",
    "  cnt = 0\n",
    "  for col in range(5):\n",
    "    for row in range(10):\n",
    "      plt.subplot(5, 10, cnt + 1)\n",
    "      plt.imshow(X_train.ix[cnt,:].reshape(8,8), cmap=plt.cm.gray_r, interpolation='nearest')\n",
    "      plt.axis('off')\n",
    "      cnt += 1\n",
    "  fig.set_tight_layout(True)\n",
    "  plt.show()\n",
    "\n",
    "\n",
    "def drawPredictions(X_train, X_test, y_train, y_test):\n",
    "  fig = plt.figure()\n",
    "\n",
    "  # Make some guesses\n",
    "  y_guess = model.predict(X_test)\n",
    "\n",
    "\n",
    "  #\n",
    "  # INFO: This is the second lab we're demonstrating how to\n",
    "  # do multi-plots using matplot lab. In the next assignment(s),\n",
    "  # it'll be your responsibility to use this and assignment #1\n",
    "  # as tutorials to add in the plotting code yourself!\n",
    "  num_rows = 10\n",
    "  num_cols = 5\n",
    "\n",
    "  index = 0\n",
    "  for col in range(num_cols):\n",
    "    for row in range(num_rows):\n",
    "      plt.subplot(num_cols, num_rows, index + 1)\n",
    "\n",
    "      # 8x8 is the size of the image, 64 pixels\n",
    "      plt.imshow(X_test.ix[index,:].reshape(8,8), cmap=plt.cm.gray_r, interpolation='nearest')\n",
    "\n",
    "      # Green = Guessed right\n",
    "      # Red = Fail!\n",
    "      fontcolor = 'g' if y_test[index] == y_guess[index] else 'r'\n",
    "      plt.title('Label: %i' % y_guess[index], fontsize=6, color=fontcolor)\n",
    "      plt.axis('off')\n",
    "      index += 1\n",
    "  fig.set_tight_layout(True)\n",
    "  plt.show()"
   ]
  },
  {
   "cell_type": "code",
   "execution_count": 7,
   "metadata": {},
   "outputs": [
    {
     "name": "stderr",
     "output_type": "stream",
     "text": [
      "/Library/Frameworks/Python.framework/Versions/3.4/lib/python3.4/site-packages/ipykernel_launcher.py:11: DeprecationWarning: \n",
      ".ix is deprecated. Please use\n",
      ".loc for label based indexing or\n",
      ".iloc for positional indexing\n",
      "\n",
      "See the documentation here:\n",
      "http://pandas.pydata.org/pandas-docs/stable/indexing.html#ix-indexer-is-deprecated\n",
      "  # This is added back by InteractiveShellApp.init_path()\n",
      "/Library/Frameworks/Python.framework/Versions/3.4/lib/python3.4/site-packages/ipykernel_launcher.py:12: DeprecationWarning: \n",
      ".ix is deprecated. Please use\n",
      ".loc for label based indexing or\n",
      ".iloc for positional indexing\n",
      "\n",
      "See the documentation here:\n",
      "http://pandas.pydata.org/pandas-docs/stable/indexing.html#ix-indexer-is-deprecated\n",
      "  if sys.path[0] == '':\n"
     ]
    }
   ],
   "source": [
    "X_train, X_test, y_train, y_test = load('Datasets/optdigits.tes', 'Datasets/optdigits.tra')"
   ]
  },
  {
   "cell_type": "code",
   "execution_count": 8,
   "metadata": {},
   "outputs": [
    {
     "name": "stdout",
     "output_type": "stream",
     "text": [
      "Training SVC Classifier...\n",
      "Scoring SVC Classifier...\n",
      "Score:\n",
      " 0.854120267261\n"
     ]
    }
   ],
   "source": [
    "print (\"Training SVC Classifier...\")\n",
    "#\n",
    "model = SVC(kernel = 'linear', C=1, gamma = .001)\n",
    "model.fit(X_train,y_train)\n",
    "print (\"Scoring SVC Classifier...\")\n",
    "score = model.score(X_test,y_test)\n",
    "print (\"Score:\\n\", score)"
   ]
  },
  {
   "cell_type": "code",
   "execution_count": 9,
   "metadata": {},
   "outputs": [
    {
     "name": "stdout",
     "output_type": "stream",
     "text": [
      "1000th test label:  0\n"
     ]
    }
   ],
   "source": [
    "true_1000th_test_value = y_test[1001]\n",
    "print (\"1000th test label: \", true_1000th_test_value)"
   ]
  },
  {
   "cell_type": "code",
   "execution_count": 10,
   "metadata": {},
   "outputs": [
    {
     "name": "stderr",
     "output_type": "stream",
     "text": [
      "/Library/Frameworks/Python.framework/Versions/3.4/lib/python3.4/site-packages/ipykernel_launcher.py:1: FutureWarning: reshape is deprecated and will raise in a subsequent release. Please use .values.reshape(...) instead\n",
      "  \"\"\"Entry point for launching an IPython kernel.\n"
     ]
    },
    {
     "data": {
      "image/png": "[encoded data removed]",
      "text/plain": [
       "<matplotlib.figure.Figure at 0x10b9817b8>"
      ]
     },
     "metadata": {},
     "output_type": "display_data"
    }
   ],
   "source": [
    "plt.imshow(X_test.iloc[1001,:].reshape(8,8), cmap = plt.cm.gray_r, interpolation = 'nearest')\n",
    "plt.show()"
   ]
  },
  {
   "cell_type": "raw",
   "metadata": {},
   "source": [
    "# TODO: Were you able to beat the USPS advertised accuracy score\n",
    "# of 98%? If so, STOP and answer the lab questions. But if you\n",
    "# weren't able to get that high of an accuracy score, go back\n",
    "# and change your SVC's kernel to 'poly' and re-run your lab\n",
    "# again.\n",
    "\n",
    "# no, only got 97.5%"
   ]
  },
  {
   "cell_type": "raw",
   "metadata": {},
   "source": [
    "#\n",
    "# TODO: Were you able to beat the USPS advertised accuracy score\n",
    "# of 98%? If so, STOP and answer the lab questions. But if you\n",
    "# weren't able to get that high of an accuracy score, go back\n",
    "# and change your SVC's kernel to 'rbf' and re-run your lab\n",
    "# again.\n",
    "\n",
    "#Yes, got 98.3%\n"
   ]
  },
  {
   "cell_type": "raw",
   "metadata": {},
   "source": [
    "# TODO: Once you're able to beat the +98% accuracy score of the\n",
    "# USPS, go back into the load() method. Look for the line that\n",
    "# reads \"# Special:\"\n",
    "#\n",
    "# Immediately under that line, alter X_train and y_train ONLY.\n",
    "# Keep just the ___FIRST___ 4% of the samples. In other words,\n",
    "# for every 100 samples found, throw away 96 of them. Make sure\n",
    "# all the samples (and labels) you keep come from the start of\n",
    "# X_train and y_train.\n",
    "\n",
    "# If the first 4% is a decimal number, then use int + ceil to\n",
    "# round up to the nearest whole integer.\n",
    "\n",
    "# That operation might require some Pandas indexing skills, or\n",
    "# perhaps some numpy indexing skills if you'd like to go that\n",
    "# route. Feel free to ask on the class forum if you want; but\n",
    "# try to exercise your own muscles first, for at least 30\n",
    "# minutes, by reviewing the Pandas documentation and stack\n",
    "# overflow. Through that, in the process, you'll pick up a lot.\n",
    "# Part of being a machine learning practitioner is know what\n",
    "# questions to ask and where to ask them, so this is a great\n",
    "# time to start!\n",
    "\n",
    "# Re-Run your application after throwing away 96% your training\n",
    "# data. What accuracy score do you get now?\n",
    "\n",
    "#85.47%"
   ]
  },
  {
   "cell_type": "raw",
   "metadata": {},
   "source": [
    "# TODO: Lastly, change your kernel back to linear and run your\n",
    "# assignment one last time. What's the accuracy score this time?\n",
    "# Surprised?\n",
    "#85.41%"
   ]
  }
 ],
 "metadata": {
  "kernelspec": {
   "display_name": "Python 3",
   "language": "python",
   "name": "python3"
  },
  "language_info": {
   "codemirror_mode": {
    "name": "ipython",
    "version": 3
   },
   "file_extension": ".py",
   "mimetype": "text/x-python",
   "name": "python",
   "nbconvert_exporter": "python",
   "pygments_lexer": "ipython3",
   "version": "3.4.2"
  }
 },
 "nbformat": 4,
 "nbformat_minor": 2
}
