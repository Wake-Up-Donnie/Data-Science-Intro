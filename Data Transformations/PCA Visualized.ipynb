{
 "cells": [
  {
   "cell_type": "markdown",
   "metadata": {},
   "source": [
    "# DAT210x - Programming with Python for DS"
   ]
  },
  {
   "cell_type": "markdown",
   "metadata": {},
   "source": [
    "## Module4- Lab2"
   ]
  },
  {
   "cell_type": "code",
   "execution_count": 86,
   "metadata": {
    "collapsed": true
   },
   "outputs": [],
   "source": [
    "import math\n",
    "import pandas as pd\n",
    "import matplotlib.pyplot as plt\n",
    "import matplotlib\n",
    "\n",
    "from sklearn import preprocessing"
   ]
  },
  {
   "cell_type": "code",
   "execution_count": 87,
   "metadata": {
    "collapsed": true
   },
   "outputs": [],
   "source": [
    "# Look pretty...\n",
    "\n",
    "# matplotlib.style.use('ggplot')\n",
    "plt.style.use('ggplot')"
   ]
  },
  {
   "cell_type": "markdown",
   "metadata": {},
   "source": [
    "### Some Boilerplate Code"
   ]
  },
  {
   "cell_type": "markdown",
   "metadata": {
    "collapsed": true
   },
   "source": [
    "For your convenience, we've included some boilerplate code here which will help you out. You aren't expected to know how to write this code on your own at this point, but it'll assist with your visualizations. We've added some notes to the code in case you're interested in knowing what it's doing:"
   ]
  },
  {
   "cell_type": "markdown",
   "metadata": {
    "collapsed": true
   },
   "source": [
    "### A Note on SKLearn's `.transform()` calls:"
   ]
  },
  {
   "cell_type": "markdown",
   "metadata": {},
   "source": [
    "Any time you perform a transformation on your data, you lose the column header names because the output of SciKit-Learn's `.transform()` method is an NDArray and not a daraframe.\n",
    "\n",
    "This actually makes a lot of sense because there are essentially two types of transformations:\n",
    "- Those that adjust the scale of your features, and\n",
    "- Those that change alter the number of features, perhaps even changing their values entirely.\n",
    "\n",
    "An example of adjusting the scale of a feature would be changing centimeters to inches. Changing the feature entirely would be like using PCA to reduce 300 columns to 30. In either case, the original column's units have either been altered or no longer exist at all, so it's up to you to assign names to your columns after any transformation, if you'd like to store the resulting NDArray back into a dataframe."
   ]
  },
  {
   "cell_type": "code",
   "execution_count": 99,
   "metadata": {
    "collapsed": true
   },
   "outputs": [],
   "source": [
    "def scaleFeatures(df):\n",
    "    # Feature scaling is a type of transformation that only changes the\n",
    "    # scale, but not number of features. Because of this, we can still\n",
    "    # use the original dataset's column names... so long as we keep in\n",
    "    # mind that the _units_ have been altered:\n",
    "\n",
    "    scaled = preprocessing.StandardScaler().fit_transform(df)\n",
    "    scaled = pd.DataFrame(scaled, columns=df.columns)\n",
    "    \n",
    "    print(\"New Variances:\\n\", scaled.var())\n",
    "    print(\"New Describe:\\n\", scaled.describe())\n",
    "    return scaled"
   ]
  },
  {
   "cell_type": "markdown",
   "metadata": {
    "collapsed": true
   },
   "source": [
    "SKLearn contains many methods for transforming your features by scaling them, a type of pre-processing):\n",
    "    - `RobustScaler`\n",
    "    - `Normalizer`\n",
    "    - `MinMaxScaler`\n",
    "    - `MaxAbsScaler`\n",
    "    - `StandardScaler`\n",
    "    - ...\n",
    "\n",
    "http://scikit-learn.org/stable/modules/classes.html#module-sklearn.preprocessing\n",
    "\n",
    "However in order to be effective at PCA, there are a few requirements that must be met, and which will drive the selection of your scaler. PCA requires your data is standardized -- in other words, it's _mean_ should equal 0, and it should have unit variance.\n",
    "\n",
    "SKLearn's regular `Normalizer()` doesn't zero out the mean of your data, it only clamps it, so it could be inappropriate to use depending on your data. `MinMaxScaler` and `MaxAbsScaler` both fail to set a unit variance, so you won't be using them here either. `RobustScaler` can work, again depending on your data (watch for outliers!). So for this assignment, you're going to use the `StandardScaler`. Get familiar with it by visiting these two websites:\n",
    "\n",
    "- http://scikit-learn.org/stable/modules/preprocessing.html#preprocessing-scaler\n",
    "- http://scikit-learn.org/stable/modules/generated/sklearn.preprocessing.StandardScaler.html#sklearn.preprocessing.StandardScaler"
   ]
  },
  {
   "cell_type": "markdown",
   "metadata": {},
   "source": [
    "Lastly, some code to help with visualizations:"
   ]
  },
  {
   "cell_type": "code",
   "execution_count": 89,
   "metadata": {
    "collapsed": true
   },
   "outputs": [],
   "source": [
    "def drawVectors(transformed_features, components_, columns, plt, scaled):\n",
    "    if not scaled:\n",
    "        return plt.axes() # No cheating ;-)\n",
    "\n",
    "    num_columns = len(columns)\n",
    "\n",
    "    # This funtion will project your *original* feature (columns)\n",
    "    # onto your principal component feature-space, so that you can\n",
    "    # visualize how \"important\" each one was in the\n",
    "    # multi-dimensional scaling\n",
    "\n",
    "    # Scale the principal components by the max value in\n",
    "    # the transformed set belonging to that component\n",
    "    xvector = components_[0] * max(transformed_features[:,0])\n",
    "    yvector = components_[1] * max(transformed_features[:,1])\n",
    "\n",
    "    ## visualize projections\n",
    "\n",
    "    # Sort each column by it's length. These are your *original*\n",
    "    # columns, not the principal components.\n",
    "    important_features = { columns[i] : math.sqrt(xvector[i]**2 + yvector[i]**2) for i in range(num_columns) }\n",
    "    important_features = sorted(zip(important_features.values(), important_features.keys()), reverse=True)\n",
    "    print(\"Features by importance:\\n\", important_features)\n",
    "\n",
    "    ax = plt.axes()\n",
    "\n",
    "    for i in range(num_columns):\n",
    "        # Use an arrow to project each original feature as a\n",
    "        # labeled vector on your principal component axes\n",
    "        plt.arrow(0, 0, xvector[i], yvector[i], color='b', width=0.0005, head_width=0.02, alpha=0.75)\n",
    "        plt.text(xvector[i]*1.2, yvector[i]*1.2, list(columns)[i], color='b', alpha=0.75)\n",
    "\n",
    "    return ax"
   ]
  },
  {
   "cell_type": "markdown",
   "metadata": {},
   "source": [
    "### And Now, The Assignment"
   ]
  },
  {
   "cell_type": "code",
   "execution_count": 90,
   "metadata": {},
   "outputs": [],
   "source": [
    "# Do * NOT * alter this line, until instructed!\n",
    "scaleFeatures = True"
   ]
  },
  {
   "cell_type": "markdown",
   "metadata": {},
   "source": [
    "Load up the dataset specified on the lab instructions page and remove any and all _rows_ that have a NaN in them. You should be a pro at this by now ;-)\n",
    "\n",
    "**QUESTION**: Should the `id` column be included in your dataset as a feature?"
   ]
  },
  {
   "cell_type": "code",
   "execution_count": 91,
   "metadata": {},
   "outputs": [
    {
     "name": "stdout",
     "output_type": "stream",
     "text": [
      "      id   age     bp     sg   al   su       rbc        pc         pcc  \\\n",
      "3      3  48.0   70.0  1.005  4.0  0.0    normal  abnormal     present   \n",
      "9      9  53.0   90.0  1.020  2.0  0.0  abnormal  abnormal     present   \n",
      "11    11  63.0   70.0  1.010  3.0  0.0  abnormal  abnormal     present   \n",
      "14    14  68.0   80.0  1.010  3.0  2.0    normal  abnormal     present   \n",
      "20    20  61.0   80.0  1.015  2.0  0.0  abnormal  abnormal  notpresent   \n",
      "22    22  48.0   80.0  1.025  4.0  0.0    normal  abnormal  notpresent   \n",
      "27    27  69.0   70.0  1.010  3.0  4.0    normal  abnormal  notpresent   \n",
      "48    48  73.0   70.0  1.005  0.0  0.0    normal    normal  notpresent   \n",
      "58    58  73.0   80.0  1.020  2.0  0.0  abnormal  abnormal  notpresent   \n",
      "71    71  46.0   60.0  1.010  1.0  0.0    normal    normal  notpresent   \n",
      "74    74  56.0   90.0  1.015  2.0  0.0  abnormal  abnormal  notpresent   \n",
      "76    76  48.0   80.0  1.005  4.0  0.0  abnormal  abnormal  notpresent   \n",
      "84    84  59.0   70.0  1.010  3.0  0.0    normal  abnormal  notpresent   \n",
      "90    90  63.0  100.0  1.010  2.0  2.0    normal    normal  notpresent   \n",
      "91    91  56.0   70.0  1.015  4.0  1.0  abnormal    normal  notpresent   \n",
      "92    92  71.0   70.0  1.010  3.0  0.0    normal  abnormal     present   \n",
      "93    93  73.0  100.0  1.010  3.0  2.0  abnormal  abnormal     present   \n",
      "127  127  71.0   60.0  1.015  4.0  0.0    normal    normal  notpresent   \n",
      "128  128  52.0   90.0  1.015  4.0  3.0    normal  abnormal  notpresent   \n",
      "130  130  50.0   90.0  1.010  2.0  0.0    normal  abnormal     present   \n",
      "133  133  70.0  100.0  1.015  4.0  0.0    normal    normal  notpresent   \n",
      "144  144  60.0   90.0  1.010  2.0  0.0  abnormal    normal  notpresent   \n",
      "147  147  60.0   60.0  1.010  3.0  1.0    normal  abnormal     present   \n",
      "153  153  55.0   90.0  1.010  2.0  1.0  abnormal  abnormal  notpresent   \n",
      "157  157  62.0   70.0  1.025  3.0  0.0    normal  abnormal  notpresent   \n",
      "159  159  59.0   80.0  1.010  1.0  0.0  abnormal    normal  notpresent   \n",
      "171  171  83.0   70.0  1.020  3.0  0.0    normal    normal  notpresent   \n",
      "176  176  21.0   90.0  1.010  4.0  0.0    normal  abnormal     present   \n",
      "181  181  45.0   70.0  1.025  2.0  0.0    normal  abnormal     present   \n",
      "189  189  64.0   60.0  1.010  4.0  1.0  abnormal  abnormal  notpresent   \n",
      "..   ...   ...    ...    ...  ...  ...       ...       ...         ...   \n",
      "368  368  30.0   80.0  1.025  0.0  0.0    normal    normal  notpresent   \n",
      "369  369  75.0   70.0  1.020  0.0  0.0    normal    normal  notpresent   \n",
      "370  370  69.0   70.0  1.020  0.0  0.0    normal    normal  notpresent   \n",
      "371  371  28.0   60.0  1.025  0.0  0.0    normal    normal  notpresent   \n",
      "372  372  72.0   60.0  1.020  0.0  0.0    normal    normal  notpresent   \n",
      "373  373  61.0   70.0  1.025  0.0  0.0    normal    normal  notpresent   \n",
      "374  374  79.0   80.0  1.025  0.0  0.0    normal    normal  notpresent   \n",
      "375  375  70.0   80.0  1.020  0.0  0.0    normal    normal  notpresent   \n",
      "376  376  58.0   70.0  1.025  0.0  0.0    normal    normal  notpresent   \n",
      "377  377  64.0   70.0  1.020  0.0  0.0    normal    normal  notpresent   \n",
      "379  379  62.0   80.0  1.025  0.0  0.0    normal    normal  notpresent   \n",
      "380  380  59.0   60.0  1.020  0.0  0.0    normal    normal  notpresent   \n",
      "382  382  48.0   80.0  1.025  0.0  0.0    normal    normal  notpresent   \n",
      "383  383  80.0   80.0  1.025  0.0  0.0    normal    normal  notpresent   \n",
      "384  384  57.0   60.0  1.020  0.0  0.0    normal    normal  notpresent   \n",
      "385  385  63.0   70.0  1.020  0.0  0.0    normal    normal  notpresent   \n",
      "386  386  46.0   70.0  1.025  0.0  0.0    normal    normal  notpresent   \n",
      "387  387  15.0   80.0  1.025  0.0  0.0    normal    normal  notpresent   \n",
      "388  388  51.0   80.0  1.020  0.0  0.0    normal    normal  notpresent   \n",
      "389  389  41.0   80.0  1.025  0.0  0.0    normal    normal  notpresent   \n",
      "390  390  52.0   80.0  1.025  0.0  0.0    normal    normal  notpresent   \n",
      "391  391  36.0   80.0  1.025  0.0  0.0    normal    normal  notpresent   \n",
      "392  392  57.0   80.0  1.020  0.0  0.0    normal    normal  notpresent   \n",
      "393  393  43.0   60.0  1.025  0.0  0.0    normal    normal  notpresent   \n",
      "394  394  50.0   80.0  1.020  0.0  0.0    normal    normal  notpresent   \n",
      "395  395  55.0   80.0  1.020  0.0  0.0    normal    normal  notpresent   \n",
      "396  396  42.0   70.0  1.025  0.0  0.0    normal    normal  notpresent   \n",
      "397  397  12.0   80.0  1.020  0.0  0.0    normal    normal  notpresent   \n",
      "398  398  17.0   60.0  1.025  0.0  0.0    normal    normal  notpresent   \n",
      "399  399  58.0   80.0  1.025  0.0  0.0    normal    normal  notpresent   \n",
      "\n",
      "             ba      ...        pcv      wc   rc  htn   dm  cad appet   pe  \\\n",
      "3    notpresent      ...         32    6700  3.9  yes   no   no  poor  yes   \n",
      "9    notpresent      ...         29   12100  3.7  yes  yes   no  poor   no   \n",
      "11   notpresent      ...         32    4500  3.8  yes  yes   no  poor  yes   \n",
      "14      present      ...         16   11000  2.6  yes  yes  yes  poor  yes   \n",
      "20   notpresent      ...         24    9200  3.2  yes  yes  yes  poor  yes   \n",
      "22   notpresent      ...         32    6900  3.4  yes   no   no  good   no   \n",
      "27   notpresent      ...         37    9600  4.1  yes  yes  yes  good  yes   \n",
      "48   notpresent      ...         29   18900  3.5  yes  yes   no  good  yes   \n",
      "58   notpresent      ...         33    7200  4.3  yes  yes  yes  good   no   \n",
      "71   notpresent      ...         28   14600  3.2  yes  yes   no  good   no   \n",
      "74   notpresent      ...         29    6400  3.4  yes   no   no  good   no   \n",
      "76      present      ...         36  \\t6200    4   no  yes   no  good  yes   \n",
      "84   notpresent      ...         22    3800  2.1  yes   no   no  poor  yes   \n",
      "90      present      ...         40    9800  4.2  yes   no  yes  good   no   \n",
      "91   notpresent      ...         52   12500  5.6   no   no   no  good   no   \n",
      "92      present      ...         33    5600  3.6  yes  yes  yes  good   no   \n",
      "93   notpresent      ...         30    7000  3.2  yes  yes  yes  poor   no   \n",
      "127  notpresent      ...         35   15200  4.3  yes  yes   no  poor  yes   \n",
      "128  notpresent      ...         23    5000  2.9  yes  yes   no  good   no   \n",
      "130     present      ...         22   16300  2.7   no   no   no  poor  yes   \n",
      "133  notpresent      ...         37  \\t8400  8.0  yes   no   no  good   no   \n",
      "144  notpresent      ...         33   10500  4.1   no   no   no  good   no   \n",
      "147  notpresent      ...         25   15200  3.0  yes   no   no  poor   no   \n",
      "153  notpresent      ...         22   14600  2.9  yes  yes   no  poor  yes   \n",
      "157  notpresent      ...         39    7900  3.9  yes  yes   no  good   no   \n",
      "159  notpresent      ...         35   10900  4.3   no  yes   no  poor   no   \n",
      "171  notpresent      ...         26   12800  3.1  yes   no   no  poor   no   \n",
      "176     present      ...         23   12400  3.9   no   no   no  good   no   \n",
      "181  notpresent      ...         30   19100  3.7   no   no   no  good   no   \n",
      "189     present      ...         29    7500  3.4  yes  yes   no  poor  yes   \n",
      "..          ...      ...        ...     ...  ...  ...  ...  ...   ...  ...   \n",
      "368  notpresent      ...         45    9400  5.9   no   no   no  good   no   \n",
      "369  notpresent      ...         46   10300  4.8   no   no   no  good   no   \n",
      "370  notpresent      ...         50    9300  5.4   no   no   no  good   no   \n",
      "371  notpresent      ...         51    6500  5.0   no   no   no  good   no   \n",
      "372  notpresent      ...         52   10500  5.5   no   no   no  good   no   \n",
      "373  notpresent      ...         47    9200  4.9   no   no   no  good   no   \n",
      "374  notpresent      ...         40    8000  6.4   no   no   no  good   no   \n",
      "375  notpresent      ...         48    9700  5.6   no   no   no  good   no   \n",
      "376  notpresent      ...         53    9100  5.2   no   no   no  good   no   \n",
      "377  notpresent      ...         49    6400  4.8   no   no   no  good   no   \n",
      "379  notpresent      ...         50    5400  5.7   no   no   no  good   no   \n",
      "380  notpresent      ...         54    6500  4.9   no   no   no  good   no   \n",
      "382  notpresent      ...         51    6000  6.5   no   no   no  good   no   \n",
      "383  notpresent      ...         49    5100  5.0   no   no   no  good   no   \n",
      "384  notpresent      ...         42   11000  4.5   no   no   no  good   no   \n",
      "385  notpresent      ...         52    8000  5.1   no   no   no  good   no   \n",
      "386  notpresent      ...         43    5700  6.5   no   no   no  good   no   \n",
      "387  notpresent      ...         50    6200  5.2   no   no   no  good   no   \n",
      "388  notpresent      ...         46    9500  6.4   no   no   no  good   no   \n",
      "389  notpresent      ...         52    7200  5.8   no   no   no  good   no   \n",
      "390  notpresent      ...         52    6300  5.3   no   no   no  good   no   \n",
      "391  notpresent      ...         44    5800  6.3   no   no   no  good   no   \n",
      "392  notpresent      ...         46    6600  5.5   no   no   no  good   no   \n",
      "393  notpresent      ...         54    7400  5.4   no   no   no  good   no   \n",
      "394  notpresent      ...         45    9500  4.6   no   no   no  good   no   \n",
      "395  notpresent      ...         47    6700  4.9   no   no   no  good   no   \n",
      "396  notpresent      ...         54    7800  6.2   no   no   no  good   no   \n",
      "397  notpresent      ...         49    6600  5.4   no   no   no  good   no   \n",
      "398  notpresent      ...         51    7200  5.9   no   no   no  good   no   \n",
      "399  notpresent      ...         53    6800  6.1   no   no   no  good   no   \n",
      "\n",
      "     ane classification  \n",
      "3    yes            ckd  \n",
      "9    yes            ckd  \n",
      "11    no            ckd  \n",
      "14    no            ckd  \n",
      "20   yes            ckd  \n",
      "22   yes            ckd  \n",
      "27    no            ckd  \n",
      "48    no            ckd  \n",
      "58    no            ckd  \n",
      "71    no            ckd  \n",
      "74    no            ckd  \n",
      "76    no            ckd  \n",
      "84   yes            ckd  \n",
      "90    no            ckd  \n",
      "91    no            ckd  \n",
      "92    no            ckd  \n",
      "93    no            ckd  \n",
      "127   no            ckd  \n",
      "128  yes            ckd  \n",
      "130  yes            ckd  \n",
      "133   no            ckd  \n",
      "144   no            ckd  \n",
      "147  yes            ckd  \n",
      "153  yes            ckd  \n",
      "157   no            ckd  \n",
      "159   no            ckd  \n",
      "171  yes            ckd  \n",
      "176  yes            ckd  \n",
      "181   no            ckd  \n",
      "189   no            ckd  \n",
      "..   ...            ...  \n",
      "368   no         notckd  \n",
      "369   no         notckd  \n",
      "370   no         notckd  \n",
      "371   no         notckd  \n",
      "372   no         notckd  \n",
      "373   no         notckd  \n",
      "374   no         notckd  \n",
      "375   no         notckd  \n",
      "376   no         notckd  \n",
      "377   no         notckd  \n",
      "379   no         notckd  \n",
      "380   no         notckd  \n",
      "382   no         notckd  \n",
      "383   no         notckd  \n",
      "384   no         notckd  \n",
      "385   no         notckd  \n",
      "386   no         notckd  \n",
      "387   no         notckd  \n",
      "388   no         notckd  \n",
      "389   no         notckd  \n",
      "390   no         notckd  \n",
      "391   no         notckd  \n",
      "392   no         notckd  \n",
      "393   no         notckd  \n",
      "394   no         notckd  \n",
      "395   no         notckd  \n",
      "396   no         notckd  \n",
      "397   no         notckd  \n",
      "398   no         notckd  \n",
      "399   no         notckd  \n",
      "\n",
      "[158 rows x 26 columns]\n"
     ]
    }
   ],
   "source": [
    "df = pd.read_csv(\"Datasets/kidney_disease.csv\", sep=\",\")\n",
    "df = df.dropna()\n",
    "print (df)"
   ]
  },
  {
   "cell_type": "markdown",
   "metadata": {},
   "source": [
    "Let's build some color-coded labels; the actual label feature will be removed prior to executing PCA, since it's unsupervised. You're only labeling by color so you can see the effects of PCA:"
   ]
  },
  {
   "cell_type": "code",
   "execution_count": 92,
   "metadata": {},
   "outputs": [],
   "source": [
    "labels = ['red' if i=='ckd' else 'green' for i in df.classification]"
   ]
  },
  {
   "cell_type": "markdown",
   "metadata": {
    "collapsed": true
   },
   "source": [
    "Use an indexer to select only the following columns: `['bgr','wc','rc']`"
   ]
  },
  {
   "cell_type": "code",
   "execution_count": 93,
   "metadata": {},
   "outputs": [
    {
     "name": "stdout",
     "output_type": "stream",
     "text": [
      "       bgr      wc   rc\n",
      "3    117.0    6700  3.9\n",
      "9     70.0   12100  3.7\n",
      "11   380.0    4500  3.8\n",
      "14   157.0   11000  2.6\n",
      "20   173.0    9200  3.2\n",
      "22    95.0    6900  3.4\n",
      "27   264.0    9600  4.1\n",
      "48    70.0   18900  3.5\n",
      "58   253.0    7200  4.3\n",
      "71   163.0   14600  3.2\n",
      "74   129.0    6400  3.4\n",
      "76   133.0  \\t6200    4\n",
      "84    76.0    3800  2.1\n",
      "90   280.0    9800  4.2\n",
      "91   210.0   12500  5.6\n",
      "92   219.0    5600  3.6\n",
      "93   295.0    7000  3.2\n",
      "127  118.0   15200  4.3\n",
      "128  224.0    5000  2.9\n",
      "130  128.0   16300  2.7\n",
      "133  118.0  \\t8400  8.0\n",
      "144  105.0   10500  4.1\n",
      "147  288.0   15200  3.0\n",
      "153  273.0   14600  2.9\n",
      "157  122.0    7900  3.9\n",
      "159  303.0   10900  4.3\n",
      "171  102.0   12800  3.1\n",
      "176  107.0   12400  3.9\n",
      "181  117.0   19100  3.7\n",
      "189  239.0    7500  3.4\n",
      "..     ...     ...  ...\n",
      "368   82.0    9400  5.9\n",
      "369  107.0   10300  4.8\n",
      "370   83.0    9300  5.4\n",
      "371   79.0    6500  5.0\n",
      "372  109.0   10500  5.5\n",
      "373  133.0    9200  4.9\n",
      "374  111.0    8000  6.4\n",
      "375   74.0    9700  5.6\n",
      "376   88.0    9100  5.2\n",
      "377   97.0    6400  4.8\n",
      "379   78.0    5400  5.7\n",
      "380  113.0    6500  4.9\n",
      "382   75.0    6000  6.5\n",
      "383  119.0    5100  5.0\n",
      "384  132.0   11000  4.5\n",
      "385  113.0    8000  5.1\n",
      "386  100.0    5700  6.5\n",
      "387   93.0    6200  5.2\n",
      "388   94.0    9500  6.4\n",
      "389  112.0    7200  5.8\n",
      "390   99.0    6300  5.3\n",
      "391   85.0    5800  6.3\n",
      "392  133.0    6600  5.5\n",
      "393  117.0    7400  5.4\n",
      "394  137.0    9500  4.6\n",
      "395  140.0    6700  4.9\n",
      "396   75.0    7800  6.2\n",
      "397  100.0    6600  5.4\n",
      "398  114.0    7200  5.9\n",
      "399  131.0    6800  6.1\n",
      "\n",
      "[158 rows x 3 columns]\n"
     ]
    }
   ],
   "source": [
    "threeColumns = df[['bgr','wc', 'rc']]\n",
    "print (threeColumns)"
   ]
  },
  {
   "cell_type": "markdown",
   "metadata": {},
   "source": [
    "Either take a look at the dataset's webpage in the attribute info section of UCI's [Chronic Kidney Disease]() page,: https://archive.ics.uci.edu/ml/datasets/Chronic_Kidney_Disease or alternatively, you can actually look at the first few rows of your dataframe using `.head()`. What kind of data type should these three columns be? Compare what you see with the results when you print out your dataframe's `dtypes`.\n",
    "\n",
    "If Pandas did not properly detect and convert your columns to the data types you expected, use an appropriate command to coerce these features to the right type."
   ]
  },
  {
   "cell_type": "code",
   "execution_count": 94,
   "metadata": {},
   "outputs": [
    {
     "name": "stdout",
     "output_type": "stream",
     "text": [
      "bgr    float64\n",
      "wc      object\n",
      "rc      object\n",
      "dtype: object\n",
      "bgr    float64\n",
      "wc       int64\n",
      "rc     float64\n",
      "dtype: object\n"
     ]
    },
    {
     "name": "stderr",
     "output_type": "stream",
     "text": [
      "/Library/Frameworks/Python.framework/Versions/3.4/lib/python3.4/site-packages/ipykernel_launcher.py:2: SettingWithCopyWarning: \n",
      "A value is trying to be set on a copy of a slice from a DataFrame.\n",
      "Try using .loc[row_indexer,col_indexer] = value instead\n",
      "\n",
      "See the caveats in the documentation: http://pandas.pydata.org/pandas-docs/stable/indexing.html#indexing-view-versus-copy\n",
      "  \n",
      "/Library/Frameworks/Python.framework/Versions/3.4/lib/python3.4/site-packages/ipykernel_launcher.py:3: SettingWithCopyWarning: \n",
      "A value is trying to be set on a copy of a slice from a DataFrame.\n",
      "Try using .loc[row_indexer,col_indexer] = value instead\n",
      "\n",
      "See the caveats in the documentation: http://pandas.pydata.org/pandas-docs/stable/indexing.html#indexing-view-versus-copy\n",
      "  This is separate from the ipykernel package so we can avoid doing imports until\n"
     ]
    }
   ],
   "source": [
    "print (threeColumns.dtypes)\n",
    "threeColumns['wc'] = pd.to_numeric(threeColumns[\"wc\"], errors='coerce')\n",
    "threeColumns['rc'] = pd.to_numeric(threeColumns[\"rc\"], errors='coerce')\n",
    "print (threeColumns.dtypes)"
   ]
  },
  {
   "cell_type": "markdown",
   "metadata": {},
   "source": [
    "PCA Operates based on variance. The variable with the greatest variance will dominate. Examine your data using a command that will check the variance of every feature in your dataset, and then print out the results. Also print out the results of running `.describe` on your dataset.\n",
    "\n",
    "_Hint:_ If you do not see all three variables: `'bgr'`, `'wc'`, and `'rc'`, then it's likely you probably did not complete the previous step properly."
   ]
  },
  {
   "cell_type": "code",
   "execution_count": 95,
   "metadata": {},
   "outputs": [
    {
     "name": "stdout",
     "output_type": "stream",
     "text": [
      "bgr    4.217182e+03\n",
      "wc     9.777380e+06\n",
      "rc     1.039104e+00\n",
      "dtype: float64\n"
     ]
    },
    {
     "data": {
      "text/html": [
       "<div>\n",
       "<style>\n",
       "    .dataframe thead tr:only-child th {\n",
       "        text-align: right;\n",
       "    }\n",
       "\n",
       "    .dataframe thead th {\n",
       "        text-align: left;\n",
       "    }\n",
       "\n",
       "    .dataframe tbody tr th {\n",
       "        vertical-align: top;\n",
       "    }\n",
       "</style>\n",
       "<table border=\"1\" class=\"dataframe\">\n",
       "  <thead>\n",
       "    <tr style=\"text-align: right;\">\n",
       "      <th></th>\n",
       "      <th>bgr</th>\n",
       "      <th>wc</th>\n",
       "      <th>rc</th>\n",
       "    </tr>\n",
       "  </thead>\n",
       "  <tbody>\n",
       "    <tr>\n",
       "      <th>count</th>\n",
       "      <td>158.000000</td>\n",
       "      <td>158.000000</td>\n",
       "      <td>158.000000</td>\n",
       "    </tr>\n",
       "    <tr>\n",
       "      <th>mean</th>\n",
       "      <td>131.341772</td>\n",
       "      <td>8475.949367</td>\n",
       "      <td>4.891772</td>\n",
       "    </tr>\n",
       "    <tr>\n",
       "      <th>std</th>\n",
       "      <td>64.939832</td>\n",
       "      <td>3126.880181</td>\n",
       "      <td>1.019364</td>\n",
       "    </tr>\n",
       "    <tr>\n",
       "      <th>min</th>\n",
       "      <td>70.000000</td>\n",
       "      <td>3800.000000</td>\n",
       "      <td>2.100000</td>\n",
       "    </tr>\n",
       "    <tr>\n",
       "      <th>25%</th>\n",
       "      <td>97.000000</td>\n",
       "      <td>6525.000000</td>\n",
       "      <td>4.500000</td>\n",
       "    </tr>\n",
       "    <tr>\n",
       "      <th>50%</th>\n",
       "      <td>115.500000</td>\n",
       "      <td>7800.000000</td>\n",
       "      <td>4.950000</td>\n",
       "    </tr>\n",
       "    <tr>\n",
       "      <th>75%</th>\n",
       "      <td>131.750000</td>\n",
       "      <td>9775.000000</td>\n",
       "      <td>5.600000</td>\n",
       "    </tr>\n",
       "    <tr>\n",
       "      <th>max</th>\n",
       "      <td>490.000000</td>\n",
       "      <td>26400.000000</td>\n",
       "      <td>8.000000</td>\n",
       "    </tr>\n",
       "  </tbody>\n",
       "</table>\n",
       "</div>"
      ],
      "text/plain": [
       "              bgr            wc          rc\n",
       "count  158.000000    158.000000  158.000000\n",
       "mean   131.341772   8475.949367    4.891772\n",
       "std     64.939832   3126.880181    1.019364\n",
       "min     70.000000   3800.000000    2.100000\n",
       "25%     97.000000   6525.000000    4.500000\n",
       "50%    115.500000   7800.000000    4.950000\n",
       "75%    131.750000   9775.000000    5.600000\n",
       "max    490.000000  26400.000000    8.000000"
      ]
     },
     "execution_count": 95,
     "metadata": {},
     "output_type": "execute_result"
    }
   ],
   "source": [
    "print (threeColumns.var(axis=0))\n",
    "threeColumns.describe()\n"
   ]
  },
  {
   "cell_type": "markdown",
   "metadata": {},
   "source": [
    "Below, we assume your dataframe's variable is named `df`. If it isn't, make the appropriate changes. But do not alter the code in `scaleFeatures()` just yet!"
   ]
  },
  {
   "cell_type": "code",
   "execution_count": 100,
   "metadata": {},
   "outputs": [
    {
     "name": "stdout",
     "output_type": "stream",
     "text": [
      "New Variances:\n",
      " bgr    1.006369\n",
      "wc     1.006369\n",
      "rc     1.006369\n",
      "dtype: float64\n",
      "New Describe:\n",
      "                 bgr            wc            rc\n",
      "count  1.580000e+02  1.580000e+02  1.580000e+02\n",
      "mean  -4.497106e-17 -4.497106e-17  1.349132e-16\n",
      "std    1.003180e+00  1.003180e+00  1.003180e+00\n",
      "min   -9.475974e-01 -1.500159e+00 -2.747446e+00\n",
      "25%   -5.305059e-01 -6.259123e-01 -3.855519e-01\n",
      "50%   -2.447210e-01 -2.168611e-01  5.730335e-02\n",
      "75%    6.306235e-03  4.167672e-01  6.969831e-01\n",
      "max    5.540492e+00  5.750474e+00  3.058878e+00\n"
     ]
    }
   ],
   "source": [
    "df = threeColumns\n",
    "if scaleFeatures: df = scaleFeatures(df)"
   ]
  },
  {
   "cell_type": "markdown",
   "metadata": {},
   "source": [
    "Run PCA on your dataset, reducing it to 2 principal components. Make sure your PCA model is saved in a variable called `'pca'`, and that the results of your transformation are saved in another variable `'T'`:"
   ]
  },
  {
   "cell_type": "code",
   "execution_count": 105,
   "metadata": {},
   "outputs": [],
   "source": [
    "from sklearn.decomposition import PCA\n",
    "pca = PCA(n_components=2, svd_solver=\"full\")\n",
    "pca.fit(df)\n",
    "T = pca.transform(df)"
   ]
  },
  {
   "cell_type": "markdown",
   "metadata": {},
   "source": [
    "Now, plot the transformed data as a scatter plot. Recall that transforming the data will result in a NumPy NDArray. You can either use MatPlotLib to graph it directly, or you can convert it back to DataFrame and have Pandas do it for you.\n",
    "\n",
    "Since we've already demonstrated how to plot directly with MatPlotLib in `Module4/assignment1.ipynb`, this time we'll show you how to convert your transformed data back into to a Pandas Dataframe and have Pandas plot it from there."
   ]
  },
  {
   "cell_type": "code",
   "execution_count": 106,
   "metadata": {},
   "outputs": [
    {
     "name": "stdout",
     "output_type": "stream",
     "text": [
      "Features by importance:\n",
      " [(3.999807155688487, 'wc'), (3.258887664121093, 'bgr'), (3.0097527529983648, 'rc')]\n"
     ]
    },
    {
     "data": {
      "image/png": "[encoded data removed]",
      "text/plain": [
       "<matplotlib.figure.Figure at 0x10c922908>"
      ]
     },
     "metadata": {},
     "output_type": "display_data"
    }
   ],
   "source": [
    "# Since we transformed via PCA, we no longer have column names; but we know we\n",
    "# are in `principal-component` space, so we'll just define the coordinates accordingly:\n",
    "\n",
    "ax = drawVectors(T, pca.components_, df.columns.values, plt, scaleFeatures)\n",
    "T  = pd.DataFrame(T)\n",
    "\n",
    "T.columns = ['component1', 'component2']\n",
    "T.plot.scatter(x='component1', y='component2', marker='o', c=labels, alpha=0.75, ax=ax)\n",
    "\n",
    "plt.show()"
   ]
  },
  {
   "cell_type": "code",
   "execution_count": null,
   "metadata": {
    "collapsed": true
   },
   "outputs": [],
   "source": []
  }
 ],
 "metadata": {
  "anaconda-cloud": {},
  "kernelspec": {
   "display_name": "Python 3",
   "language": "python",
   "name": "python3"
  },
  "language_info": {
   "codemirror_mode": {
    "name": "ipython",
    "version": 3
   },
   "file_extension": ".py",
   "mimetype": "text/x-python",
   "name": "python",
   "nbconvert_exporter": "python",
   "pygments_lexer": "ipython3",
   "version": "3.4.2"
  },
  "toc": {
   "colors": {
    "hover_highlight": "#DAA520",
    "running_highlight": "#FF0000",
    "selected_highlight": "#FFD700"
   },
   "moveMenuLeft": true,
   "nav_menu": {
    "height": "58px",
    "width": "252px"
   },
   "navigate_menu": true,
   "number_sections": true,
   "sideBar": true,
   "threshold": 4,
   "toc_cell": false,
   "toc_section_display": "block",
   "toc_window_display": false,
   "widenNotebook": false
  }
 },
 "nbformat": 4,
 "nbformat_minor": 2
}
