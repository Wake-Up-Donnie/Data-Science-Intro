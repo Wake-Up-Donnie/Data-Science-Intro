{
 "cells": [
  {
   "cell_type": "markdown",
   "metadata": {},
   "source": [
    "# DAT210x - Programming with Python for DS"
   ]
  },
  {
   "cell_type": "markdown",
   "metadata": {},
   "source": [
    "## Module5- Lab3"
   ]
  },
  {
   "cell_type": "code",
   "execution_count": 87,
   "metadata": {
    "collapsed": true
   },
   "outputs": [],
   "source": [
    "import pandas as pd\n",
    "from datetime import timedelta\n",
    "import matplotlib.pyplot as plt\n",
    "import matplotlib\n",
    "from sklearn.cluster import KMeans\n",
    "matplotlib.style.use('ggplot') # Look Pretty"
   ]
  },
  {
   "cell_type": "markdown",
   "metadata": {},
   "source": [
    "A convenience function for you to use:"
   ]
  },
  {
   "cell_type": "code",
   "execution_count": 88,
   "metadata": {},
   "outputs": [],
   "source": [
    "def clusterInfo(model):\n",
    "    print(\"Cluster Analysis Inertia: \", model.inertia_)\n",
    "    print('------------------------------------------')\n",
    "    \n",
    "    for i in range(len(model.cluster_centers_)):\n",
    "        print(\"\\n  Cluster \", i)\n",
    "        print(\"    Centroid \", model.cluster_centers_[i])\n",
    "        print(\"    #Samples \", (model.labels_==i).sum()) # NumPy Power"
   ]
  },
  {
   "cell_type": "code",
   "execution_count": 89,
   "metadata": {
    "collapsed": true
   },
   "outputs": [],
   "source": [
    "# Find the cluster with the least # attached nodes\n",
    "def clusterWithFewestSamples(model):\n",
    "    # Ensure there's at least on cluster...\n",
    "    minSamples = len(model.labels_)\n",
    "    minCluster = 0\n",
    "    \n",
    "    for i in range(len(model.cluster_centers_)):\n",
    "        if minSamples > (model.labels_==i).sum():\n",
    "            minCluster = i\n",
    "            minSamples = (model.labels_==i).sum()\n",
    "\n",
    "    print(\"\\n  Cluster With Fewest Samples: \", minCluster)\n",
    "    return (model.labels_==minCluster)"
   ]
  },
  {
   "cell_type": "code",
   "execution_count": null,
   "metadata": {},
   "outputs": [],
   "source": []
  },
  {
   "cell_type": "markdown",
   "metadata": {
    "collapsed": true
   },
   "source": [
    "### CDRs"
   ]
  },
  {
   "cell_type": "markdown",
   "metadata": {
    "collapsed": true
   },
   "source": [
    "A [call detail record](https://en.wikipedia.org/wiki/Call_detail_record) (CDR) is a data record produced by a telephone exchange or other telecommunications equipment that documents the details of a telephone call or other telecommunications transaction (e.g., text message) that passes through that facility or device.\n",
    "\n",
    "The record contains various attributes of the call, such as time, duration, completion status, source number, and destination number. It is the automated equivalent of the paper toll tickets that were written and timed by operators for long-distance calls in a manual telephone exchange.\n",
    "\n",
    "The dataset we've curated for you contains call records for 10 people, tracked over the course of 3 years. Your job in this assignment is to find out where each of these people likely live and where they work at!\n",
    "\n",
    "Start by loading up the dataset and taking a peek at its `head` and `dtypes`. You can convert date-strings to real date-time objects using `pd.to_datetime`, and the times using `pd.to_timedelta`:"
   ]
  },
  {
   "cell_type": "code",
   "execution_count": 90,
   "metadata": {
    "collapsed": true
   },
   "outputs": [],
   "source": [
    "df = pd.read_csv(\"Datasets/CDR.csv\", sep = \",\")\n",
    "df.CallDate = df.CallDate = pd.to_datetime(df.CallDate, errors='coerce')\n",
    "df.CallTime = df.CallTime = pd.to_timedelta(df.CallTime, errors='coerce')\n",
    "df.Duration = df.Duration = pd.to_timedelta(df.Duration, errors='coerce')"
   ]
  },
  {
   "cell_type": "markdown",
   "metadata": {},
   "source": [
    "Create a unique list of the phone number values (people) stored in the `In` column of the dataset, and save them in a regular python list called `unique_numbers`. Manually check through `unique_numbers` to ensure the order the numbers appear is the same order they (uniquely) appear in your dataset:"
   ]
  },
  {
   "cell_type": "code",
   "execution_count": 91,
   "metadata": {
    "collapsed": true
   },
   "outputs": [],
   "source": [
    "unique_numbers = df[\"In\"].drop_duplicates().values.tolist()"
   ]
  },
  {
   "cell_type": "markdown",
   "metadata": {},
   "source": [
    "Using some domain expertise, your intuition should direct you to know that people are likely to behave differently on weekends vs on weekdays:\n",
    "\n",
    "#### On Weekends\n",
    "1. People probably don't go into work\n",
    "1. They probably sleep in late on Saturday\n",
    "1. They probably run a bunch of random errands, since they couldn't during the week\n",
    "1. They should be home, at least during the very late hours, e.g. 1-4 AM\n",
    "\n",
    "#### On Weekdays\n",
    "1. People probably are at work during normal working hours\n",
    "1. They probably are at home in the early morning and during the late night\n",
    "1. They probably spend time commuting between work and home everyday"
   ]
  },
  {
   "cell_type": "code",
   "execution_count": 92,
   "metadata": {},
   "outputs": [
    {
     "name": "stdout",
     "output_type": "stream",
     "text": [
      "Examining person:  0\n"
     ]
    }
   ],
   "source": [
    "print(\"Examining person: \", 0)"
   ]
  },
  {
   "cell_type": "markdown",
   "metadata": {
    "collapsed": true
   },
   "source": [
    "Create a slice called `user1` that filters to only include dataset records where the `In` feature (user phone number) is equal to the first number on your unique list above:"
   ]
  },
  {
   "cell_type": "code",
   "execution_count": 93,
   "metadata": {},
   "outputs": [
    {
     "name": "stdout",
     "output_type": "stream",
     "text": [
      "               In         Out Direction   CallDate        CallTime  DOW  \\\n",
      "0      4638472273  2666307251  Incoming 2010-12-25 07:16:24.736813  Sat   \n",
      "1      4638472273  1755442610  Incoming 2010-12-25 21:18:30.053710  Sat   \n",
      "2      4638472273  5481755331  Incoming 2010-12-25 14:52:42.878016  Sat   \n",
      "3      4638472273  1755442610  Incoming 2010-12-25 16:02:09.001913  Sat   \n",
      "4      4638472273  2145623768  Incoming 2010-12-25 15:28:35.028554  Sat   \n",
      "5      4638472273  2946222380  Incoming 2010-12-25 11:38:17.275327  Sat   \n",
      "6      4638472273  7841019020    Missed 2010-12-25 10:38:35.924232  Sat   \n",
      "71     4638472273  5912117253  Incoming 2010-12-26 14:34:27.530327  Sun   \n",
      "72     4638472273  2145623768  Incoming 2010-12-26 20:45:00.306964  Sun   \n",
      "73     4638472273  4551601645    Missed 2010-12-26 16:03:43.841914  Sun   \n",
      "74     4638472273  6250348072  Incoming 2010-12-26 18:30:28.968794  Sun   \n",
      "75     4638472273  8180005891  Incoming 2010-12-26 19:19:23.380844  Sun   \n",
      "76     4638472273  7922223441    Missed 2010-12-26 20:10:13.924779  Sun   \n",
      "77     4638472273  5481755331  Incoming 2010-12-26 16:01:49.310880  Sun   \n",
      "78     4638472273  5912117253  Incoming 2010-12-26 18:29:45.558560  Sun   \n",
      "161    4638472273  5912117253    Missed 2010-12-27 18:41:14.639828  Mon   \n",
      "194    4638472273  4217121115  Incoming 2010-12-28 21:36:14.190286  Tue   \n",
      "195    4638472273  6022767590  Incoming 2010-12-28 19:57:19.501140  Tue   \n",
      "196    4638472273  5621270003  Incoming 2010-12-28 17:10:15.465881  Tue   \n",
      "197    4638472273  5481755331  Incoming 2010-12-28 16:20:11.532130  Tue   \n",
      "198    4638472273  7756914135  Incoming 2010-12-28 19:41:43.122708  Tue   \n",
      "199    4638472273  6150928001  Incoming 2010-12-28 18:05:51.247679  Tue   \n",
      "200    4638472273  8180005891  Incoming 2010-12-28 15:27:51.105337  Tue   \n",
      "201    4638472273  6022767590    Missed 2010-12-28 20:43:50.766312  Tue   \n",
      "245    4638472273  2666307251  Incoming 2010-12-29 18:20:56.628554  Wed   \n",
      "246    4638472273  8068555700    Missed 2010-12-29 17:59:50.895586  Wed   \n",
      "247    4638472273  4551601645  Incoming 2010-12-29 19:16:16.463142  Wed   \n",
      "248    4638472273  8180005891    Missed 2010-12-29 09:13:35.198987  Wed   \n",
      "249    4638472273  2145623768  Incoming 2010-12-29 06:02:11.319738  Wed   \n",
      "250    4638472273  8068555700  Incoming 2010-12-29 13:54:14.724722  Wed   \n",
      "...           ...         ...       ...        ...             ...  ...   \n",
      "52881  4638472273  7922223441  Incoming 2013-02-22 16:55:07.961312  Fri   \n",
      "52882  4638472273  7756914135    Missed 2013-02-22 19:37:10.037669  Fri   \n",
      "52883  4638472273  8068555700  Incoming 2013-02-22 09:55:01.616595  Fri   \n",
      "52958  4638472273  4551601645    Missed 2013-02-23 15:20:11.273893  Sat   \n",
      "52959  4638472273  8068555700  Incoming 2013-02-23 15:00:49.133445  Sat   \n",
      "52960  4638472273  2145623768  Incoming 2013-02-23 08:55:50.559529  Sat   \n",
      "52961  4638472273  2666307251  Incoming 2013-02-23 10:38:12.502505  Sat   \n",
      "52962  4638472273  7756914135    Missed 2013-02-23 09:46:14.496592  Sat   \n",
      "52963  4638472273  4551601645  Incoming 2013-02-23 15:15:09.466844  Sat   \n",
      "52964  4638472273  6022767590  Incoming 2013-02-23 16:12:12.701600  Sat   \n",
      "52965  4638472273  5621270003  Incoming 2013-02-23 09:11:21.606945  Sat   \n",
      "53022  4638472273  7756914135  Incoming 2013-02-24 16:49:42.830258  Sun   \n",
      "53023  4638472273  7721472178  Incoming 2013-02-24 10:32:55.146952  Sun   \n",
      "53024  4638472273  1755442610    Missed 2013-02-24 21:04:47.567403  Sun   \n",
      "53084  4638472273  6022767590    Missed 2013-02-25 07:07:12.843629  Mon   \n",
      "53085  4638472273  4551601645  Incoming 2013-02-25 09:18:31.595568  Mon   \n",
      "53086  4638472273  7428841195  Incoming 2013-02-25 09:02:01.635228  Mon   \n",
      "53087  4638472273  6250348072    Missed 2013-02-25 12:08:43.318385  Mon   \n",
      "53088  4638472273  5621270003  Incoming 2013-02-25 22:38:36.119007  Mon   \n",
      "53089  4638472273  1755442610    Missed 2013-02-25 08:21:24.857882  Mon   \n",
      "53090  4638472273  6022767590    Missed 2013-02-25 07:58:03.056474  Mon   \n",
      "53091  4638472273  6150928001    Missed 2013-02-25 16:55:01.129212  Mon   \n",
      "53092  4638472273  5621270003    Missed 2013-02-25 17:46:00.315633  Mon   \n",
      "53138  4638472273  8068555700  Incoming 2013-02-26 07:28:38.486982  Tue   \n",
      "53139  4638472273  8068555700    Missed 2013-02-26 20:29:37.809287  Tue   \n",
      "53140  4638472273  2666307251    Missed 2013-02-26 11:26:01.888502  Tue   \n",
      "53141  4638472273  2145623768    Missed 2013-02-26 17:32:18.776276  Tue   \n",
      "53142  4638472273  4551601645  Incoming 2013-02-26 19:12:44.730636  Tue   \n",
      "53143  4638472273  7721472178  Incoming 2013-02-26 07:50:41.435642  Tue   \n",
      "53144  4638472273  6150928001  Incoming 2013-02-26 07:49:56.273334  Tue   \n",
      "\n",
      "             Duration                               TowerID   TowerLat  \\\n",
      "0     00:02:41.741499  0db53dd3-eb9c-4344-abc5-c2d74ebc3eec  32.731611   \n",
      "1     00:02:47.108750  aeaf8b43-8034-44fe-833d-31854a75acbf  32.731722   \n",
      "2     00:04:35.356341  fadaa83f-6001-45fd-aa4a-17d6c6b7ec00  32.899944   \n",
      "3     00:02:23.498499  fadaa83f-6001-45fd-aa4a-17d6c6b7ec00  32.899944   \n",
      "4     00:03:54.692497  95d7920d-c3cd-4d20-a568-9a55800dc807  32.899944   \n",
      "5     00:03:06.670355  95c91e8b-6ff1-4893-9df3-b0342636bd25  32.899944   \n",
      "6     00:02:02.855268  fadaa83f-6001-45fd-aa4a-17d6c6b7ec00  32.899944   \n",
      "71    00:06:34.154104  84844bb1-1d36-4401-abf4-a3c566c07630  32.895833   \n",
      "72    00:03:35.283608  26f7441e-e64b-4b9d-8c5a-0eb34f7e919f  32.731611   \n",
      "73    00:04:15.182895  bf3bf815-3795-4be6-bec3-12b8f713e50d  32.899944   \n",
      "74    00:02:52.395467  aeaf8b43-8034-44fe-833d-31854a75acbf  32.731722   \n",
      "75    00:03:45.783299  cd9f3b1a-2eb8-4cdb-86d1-5d4c2740b1dc  32.731722   \n",
      "76    00:02:49.402318  0db53dd3-eb9c-4344-abc5-c2d74ebc3eec  32.731611   \n",
      "77    00:05:32.498983  fadaa83f-6001-45fd-aa4a-17d6c6b7ec00  32.899944   \n",
      "78    00:02:57.914809  f9a9468b-dca3-4510-8fc1-1cba8dc77882  32.753500   \n",
      "161   00:00:20.304073  09756fb6-223f-43e9-9402-9b90c7048639  32.805667   \n",
      "194   00:05:56.080785  bcec0121-164d-406c-8c04-d12870893992  32.731611   \n",
      "195   00:02:38.219371  bcec0121-164d-406c-8c04-d12870893992  32.731611   \n",
      "196   00:01:56.250335  78512965-e30b-4734-ae92-47b910fe3d7f  32.899944   \n",
      "197   00:03:56.069765  95d7920d-c3cd-4d20-a568-9a55800dc807  32.899944   \n",
      "198   00:05:08.460490  0db53dd3-eb9c-4344-abc5-c2d74ebc3eec  32.731611   \n",
      "199   00:04:13.034708  f9a9468b-dca3-4510-8fc1-1cba8dc77882  32.753500   \n",
      "200   00:03:30.047757  95c91e8b-6ff1-4893-9df3-b0342636bd25  32.899944   \n",
      "201   00:03:23.651369  cd9f3b1a-2eb8-4cdb-86d1-5d4c2740b1dc  32.731722   \n",
      "245   00:03:55.018670  f9a9468b-dca3-4510-8fc1-1cba8dc77882  32.753500   \n",
      "246   00:03:40.818226  fadaa83f-6001-45fd-aa4a-17d6c6b7ec00  32.899944   \n",
      "247   00:04:20.380243  0db53dd3-eb9c-4344-abc5-c2d74ebc3eec  32.731611   \n",
      "248   00:02:10.574446  95c91e8b-6ff1-4893-9df3-b0342636bd25  32.899944   \n",
      "249   00:04:34.436752  9baa92e7-e990-4e9e-8c0a-4c17cb4ecc7c  32.731611   \n",
      "250   00:03:31.297111  fadaa83f-6001-45fd-aa4a-17d6c6b7ec00  32.899944   \n",
      "...               ...                                   ...        ...   \n",
      "52881 00:01:19.307088  fadaa83f-6001-45fd-aa4a-17d6c6b7ec00  32.899944   \n",
      "52882 00:01:58.418414  aeaf8b43-8034-44fe-833d-31854a75acbf  32.731722   \n",
      "52883 00:06:24.099736  78512965-e30b-4734-ae92-47b910fe3d7f  32.899944   \n",
      "52958 00:02:53.462583  0296279d-18c3-4709-853e-3e20496ce444  32.899944   \n",
      "52959 00:02:27.015023  0296279d-18c3-4709-853e-3e20496ce444  32.899944   \n",
      "52960 00:02:25.942647  95c91e8b-6ff1-4893-9df3-b0342636bd25  32.899944   \n",
      "52961 00:05:23.225719  0296279d-18c3-4709-853e-3e20496ce444  32.899944   \n",
      "52962 00:04:55.466350  0296279d-18c3-4709-853e-3e20496ce444  32.899944   \n",
      "52963 00:04:20.339683  0296279d-18c3-4709-853e-3e20496ce444  32.899944   \n",
      "52964 00:02:21.278138  fadaa83f-6001-45fd-aa4a-17d6c6b7ec00  32.899944   \n",
      "52965 00:03:19.757526  fadaa83f-6001-45fd-aa4a-17d6c6b7ec00  32.899944   \n",
      "53022 00:02:19.285474  fadaa83f-6001-45fd-aa4a-17d6c6b7ec00  32.899944   \n",
      "53023 00:00:04.908620  fadaa83f-6001-45fd-aa4a-17d6c6b7ec00  32.899944   \n",
      "53024 00:02:26.051783  bcec0121-164d-406c-8c04-d12870893992  32.731611   \n",
      "53084 00:02:31.170958  aeaf8b43-8034-44fe-833d-31854a75acbf  32.731722   \n",
      "53085 00:03:28.390952  78512965-e30b-4734-ae92-47b910fe3d7f  32.899944   \n",
      "53086 00:06:07.663294  fadaa83f-6001-45fd-aa4a-17d6c6b7ec00  32.899944   \n",
      "53087 00:04:43.358791  78512965-e30b-4734-ae92-47b910fe3d7f  32.899944   \n",
      "53088 00:04:18.145216  f3f289f5-7d29-4d3f-9b9a-a0ceaca10a1d  32.750556   \n",
      "53089 00:05:11.214264  bf3bf815-3795-4be6-bec3-12b8f713e50d  32.899944   \n",
      "53090 00:02:24.582661  66e6ccbb-cdf0-4a1a-9d20-7e53e311fc33  32.911583   \n",
      "53091 00:02:48.163010  0296279d-18c3-4709-853e-3e20496ce444  32.899944   \n",
      "53092 00:04:06.424354  95d7920d-c3cd-4d20-a568-9a55800dc807  32.899944   \n",
      "53138 00:03:51.307727  cd9f3b1a-2eb8-4cdb-86d1-5d4c2740b1dc  32.731722   \n",
      "53139 00:03:25.016193  8ba7e0d7-eb6e-4828-9c70-c469954a627d  32.731611   \n",
      "53140 00:03:08.177065  0296279d-18c3-4709-853e-3e20496ce444  32.899944   \n",
      "53141 00:02:30.823459  78512965-e30b-4734-ae92-47b910fe3d7f  32.899944   \n",
      "53142 00:03:42.954201  8fb02570-fb3f-4381-be74-3e1accf87ec5  32.750556   \n",
      "53143 00:04:04.460385  e78826ad-45b0-45d4-90ec-4776d73f1d8e  32.864167   \n",
      "53144 00:01:35.016406  b0320962-e409-487a-a435-e33ba8123768  32.881111   \n",
      "\n",
      "        TowerLon  \n",
      "0     -96.709417  \n",
      "1     -96.709500  \n",
      "2     -96.910389  \n",
      "3     -96.910389  \n",
      "4     -96.910389  \n",
      "5     -96.910389  \n",
      "6     -96.910389  \n",
      "71    -96.901944  \n",
      "72    -96.709417  \n",
      "73    -96.910389  \n",
      "74    -96.709500  \n",
      "75    -96.709500  \n",
      "76    -96.709417  \n",
      "77    -96.910389  \n",
      "78    -96.742528  \n",
      "161   -96.796667  \n",
      "194   -96.709417  \n",
      "195   -96.709417  \n",
      "196   -96.910389  \n",
      "197   -96.910389  \n",
      "198   -96.709417  \n",
      "199   -96.742528  \n",
      "200   -96.910389  \n",
      "201   -96.709500  \n",
      "245   -96.742528  \n",
      "246   -96.910389  \n",
      "247   -96.709417  \n",
      "248   -96.910389  \n",
      "249   -96.709417  \n",
      "250   -96.910389  \n",
      "...          ...  \n",
      "52881 -96.910389  \n",
      "52882 -96.709500  \n",
      "52883 -96.910389  \n",
      "52958 -96.910389  \n",
      "52959 -96.910389  \n",
      "52960 -96.910389  \n",
      "52961 -96.910389  \n",
      "52962 -96.910389  \n",
      "52963 -96.910389  \n",
      "52964 -96.910389  \n",
      "52965 -96.910389  \n",
      "53022 -96.910389  \n",
      "53023 -96.910389  \n",
      "53024 -96.709417  \n",
      "53084 -96.709500  \n",
      "53085 -96.910389  \n",
      "53086 -96.910389  \n",
      "53087 -96.910389  \n",
      "53088 -96.694722  \n",
      "53089 -96.910389  \n",
      "53090 -96.892222  \n",
      "53091 -96.910389  \n",
      "53092 -96.910389  \n",
      "53138 -96.709500  \n",
      "53139 -96.709417  \n",
      "53140 -96.910389  \n",
      "53141 -96.910389  \n",
      "53142 -96.694722  \n",
      "53143 -96.836944  \n",
      "53144 -96.856389  \n",
      "\n",
      "[3648 rows x 10 columns]\n"
     ]
    }
   ],
   "source": [
    "user1 = df.loc[df[\"In\"] == unique_numbers[0]]\n",
    "print (user1)"
   ]
  },
  {
   "cell_type": "markdown",
   "metadata": {},
   "source": [
    "Alter your slice so that it includes only Weekday (Mon-Fri) values:"
   ]
  },
  {
   "cell_type": "code",
   "execution_count": 94,
   "metadata": {},
   "outputs": [],
   "source": [
    "user1 = user1.loc[(df[\"DOW\"] != \"Sat\") & (df[\"DOW\"] != \"Sun\")]"
   ]
  },
  {
   "cell_type": "markdown",
   "metadata": {},
   "source": [
    "The idea is that the call was placed before 5pm. From Midnight-730a, the user is probably sleeping and won't call / wake up to take a call. There should be a brief time in the morning during their commute to work, then they'll spend the entire day at work. So the assumption is that most of the time is spent either at work, or in 2nd, at home:"
   ]
  },
  {
   "cell_type": "code",
   "execution_count": 95,
   "metadata": {},
   "outputs": [],
   "source": [
    "user1 = user1.loc[(user1[\"CallTime\"] < \"17:00:00\") & (user1[\"CallTime\"] < \"24:00:00\") & (user1[\"CallTime\"] > \"07:00:00\")]"
   ]
  },
  {
   "cell_type": "markdown",
   "metadata": {},
   "source": [
    "Plot the Cell Towers the user connected to"
   ]
  },
  {
   "cell_type": "code",
   "execution_count": 96,
   "metadata": {},
   "outputs": [
    {
     "data": {
      "image/png": "[encoded data removed]",
      "text/plain": [
       "<matplotlib.figure.Figure at 0x10fabb160>"
      ]
     },
     "metadata": {},
     "output_type": "display_data"
    }
   ],
   "source": [
    "fig = plt.figure()\n",
    "ax = fig.add_subplot(111)\n",
    "ax.scatter(user1.TowerLon,user1.TowerLat, c='g', marker='o', alpha=0.2)\n",
    "ax.set_title('Workday Calls Only')\n",
    "plt.show()"
   ]
  },
  {
   "cell_type": "code",
   "execution_count": 97,
   "metadata": {
    "collapsed": true
   },
   "outputs": [],
   "source": [
    "def doKMeans(data, num_clusters=0):\n",
    "    # TODO: Be sure to only feed in Lat and Lon coordinates to the KMeans algo, since none of the other\n",
    "    # data is suitable for your purposes. Since both Lat and Lon are (approximately) on the same scale,\n",
    "    # no feature scaling is required. Print out the centroid locations and add them onto your scatter\n",
    "    # plot. Use a distinguishable marker and color.\n",
    "    #\n",
    "    # Hint: Make sure you fit ONLY the coordinates, and in the CORRECT order (lat first). This is part\n",
    "    # of your domain expertise. Also, *YOU* need to create, initialize (and return) the variable named\n",
    "    # `model` here, which will be a SKLearn K-Means model for this to work:\n",
    "    \n",
    "    fig = plt.figure()\n",
    "    ax = fig.add_subplot(111)\n",
    "    ax.scatter(data.TowerLon, data.TowerLat, marker='.', alpha=0.3)\n",
    "    \n",
    "    df_model = data[[\"TowerLon\", \"TowerLat\"]]\n",
    "    \n",
    "    model = KMeans(n_clusters = num_clusters, init = \"random\")\n",
    "    model.fit(df_model)\n",
    "    labels = model.predict(df_model)\n",
    "    \n",
    "    centroids = model.cluster_centers_\n",
    "    print (centroids)\n",
    "    \n",
    "    ax.scatter(centroids[:,0], centroids[:,1], marker=\"x\", c = \"red\", alpha=.5, linewidths=3, s=169)\n",
    "    plt.show()\n",
    "    return model"
   ]
  },
  {
   "cell_type": "markdown",
   "metadata": {},
   "source": [
    "Let's tun K-Means with `K=3` or `K=4`. There really should only be a two areas of concentration. If you notice multiple areas that are \"hot\" (multiple areas the user spends a lot of time at that are FAR apart from one another), then increase K=5, with the goal being that all centroids except two will sweep up the annoying outliers and not-home, not-work travel occasions. the other two will zero in on the user's approximate home location and work locations. Or rather the location of the cell tower closest to them....."
   ]
  },
  {
   "cell_type": "code",
   "execution_count": 98,
   "metadata": {},
   "outputs": [
    {
     "name": "stdout",
     "output_type": "stream",
     "text": [
      "[[-96.70819923  32.73311717]\n",
      " [-96.90938375  32.89995416]\n",
      " [-96.83818346  32.86348712]]\n"
     ]
    },
    {
     "data": {
      "image/png": "[encoded data removed]",
      "text/plain": [
       "<matplotlib.figure.Figure at 0x10fc85630>"
      ]
     },
     "metadata": {},
     "output_type": "display_data"
    },
    {
     "name": "stdout",
     "output_type": "stream",
     "text": [
      "[[-96.85151976  32.87385429]\n",
      " [-96.70819923  32.73311717]\n",
      " [-96.90953865  32.90012755]\n",
      " [-96.81945506  32.84577996]]\n"
     ]
    },
    {
     "data": {
      "image/png": "[encoded data removed]",
      "text/plain": [
       "<matplotlib.figure.Figure at 0x10fc85da0>"
      ]
     },
     "metadata": {},
     "output_type": "display_data"
    },
    {
     "name": "stdout",
     "output_type": "stream",
     "text": [
      "[[-96.82449188  32.85108075]\n",
      " [-96.90953865  32.90012755]\n",
      " [-96.69384592  32.74985085]\n",
      " [-96.85570703  32.87662967]\n",
      " [-96.70945154  32.73165719]]\n"
     ]
    },
    {
     "data": {
      "image/png": "[encoded data removed]",
      "text/plain": [
       "<matplotlib.figure.Figure at 0x10dccaf98>"
      ]
     },
     "metadata": {},
     "output_type": "display_data"
    }
   ],
   "source": [
    "model = doKMeans(user1, 3)\n",
    "model = doKMeans(user1, 4)\n",
    "model = doKMeans(user1, 5)"
   ]
  },
  {
   "cell_type": "markdown",
   "metadata": {},
   "source": [
    "Print out the mean `CallTime` value for the samples belonging to the cluster with the LEAST samples attached to it. If our logic is correct, the cluster with the MOST samples will be work. The cluster with the 2nd most samples will be home. And the `K=3` cluster with the least samples should be somewhere in between the two. What time, on average, is the user in between home and work, between the midnight and 5pm? Around 7:50"
   ]
  },
  {
   "cell_type": "code",
   "execution_count": 101,
   "metadata": {
    "scrolled": true
   },
   "outputs": [
    {
     "name": "stdout",
     "output_type": "stream",
     "text": [
      "[[-96.70819923  32.73311717]\n",
      " [-96.90938375  32.89995416]\n",
      " [-96.83818346  32.86348712]]\n"
     ]
    },
    {
     "data": {
      "image/png": "[encoded data removed]",
      "text/plain": [
       "<matplotlib.figure.Figure at 0x1054b5c50>"
      ]
     },
     "metadata": {},
     "output_type": "display_data"
    },
    {
     "name": "stdout",
     "output_type": "stream",
     "text": [
      "Cluster Analysis Inertia:  0.133944864815\n",
      "------------------------------------------\n",
      "\n",
      "  Cluster  0\n",
      "    Centroid  [-96.70819923  32.73311717]\n",
      "    #Samples  162\n",
      "\n",
      "  Cluster  1\n",
      "    Centroid  [-96.90938375  32.89995416]\n",
      "    #Samples  958\n",
      "\n",
      "  Cluster  2\n",
      "    Centroid  [-96.83818346  32.86348712]\n",
      "    #Samples  140\n",
      "None\n",
      "\n",
      "  Cluster With Fewest Samples:  2\n",
      "    Its Waypoint Time:  0 days 07:49:53.168115\n"
     ]
    }
   ],
   "source": [
    "model = doKMeans(user1, 3)\n",
    "print (clusterInfo(model))\n",
    "midWayClusterIndices = clusterWithFewestSamples(model)\n",
    "midWaySamples = user1[midWayClusterIndices]\n",
    "print(\"    Its Waypoint Time: \", midWaySamples.CallTime.mean())"
   ]
  },
  {
   "cell_type": "markdown",
   "metadata": {},
   "source": []
  },
  {
   "cell_type": "code",
   "execution_count": 102,
   "metadata": {},
   "outputs": [],
   "source": []
  },
  {
   "cell_type": "code",
   "execution_count": null,
   "metadata": {
    "collapsed": true
   },
   "outputs": [],
   "source": []
  }
 ],
 "metadata": {
  "anaconda-cloud": {},
  "kernelspec": {
   "display_name": "Python 3",
   "language": "python",
   "name": "python3"
  },
  "language_info": {
   "codemirror_mode": {
    "name": "ipython",
    "version": 3
   },
   "file_extension": ".py",
   "mimetype": "text/x-python",
   "name": "python",
   "nbconvert_exporter": "python",
   "pygments_lexer": "ipython3",
   "version": "3.4.2"
  },
  "toc": {
   "colors": {
    "hover_highlight": "#DAA520",
    "running_highlight": "#FF0000",
    "selected_highlight": "#FFD700"
   },
   "moveMenuLeft": true,
   "nav_menu": {
    "height": "58px",
    "width": "252px"
   },
   "navigate_menu": true,
   "number_sections": true,
   "sideBar": true,
   "threshold": 4,
   "toc_cell": false,
   "toc_section_display": "block",
   "toc_window_display": false,
   "widenNotebook": false
  }
 },
 "nbformat": 4,
 "nbformat_minor": 2
}
