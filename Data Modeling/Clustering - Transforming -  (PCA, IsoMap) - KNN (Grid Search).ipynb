{
 "cells": [
  {
   "cell_type": "markdown",
   "metadata": {},
   "source": [
    "# DAT210x - Programming with Python for DS"
   ]
  },
  {
   "cell_type": "markdown",
   "metadata": {},
   "source": [
    "## Module5- Lab7"
   ]
  },
  {
   "cell_type": "code",
   "execution_count": 327,
   "metadata": {
    "collapsed": true
   },
   "outputs": [],
   "source": [
    "import random, math\n",
    "import pandas as pd\n",
    "import numpy as np\n",
    "import scipy.io\n",
    "import matplotlib\n",
    "from mpl_toolkits.mplot3d import Axes3D\n",
    "import matplotlib.pyplot as plt\n",
    "from sklearn.decomposition import PCA\n",
    "from sklearn.manifold import Isomap\n",
    "matplotlib.style.use('ggplot') # Look Pretty\n",
    "\n",
    "\n",
    "# Leave this alone until indicated:\n",
    "Test_PCA = False"
   ]
  },
  {
   "cell_type": "markdown",
   "metadata": {},
   "source": [
    "### A Convenience Function"
   ]
  },
  {
   "cell_type": "markdown",
   "metadata": {},
   "source": [
    "This method is for your visualization convenience only. You aren't expected to know how to put this together yourself, although you should be able to follow the code by now:"
   ]
  },
  {
   "cell_type": "code",
   "execution_count": 304,
   "metadata": {
    "collapsed": true
   },
   "outputs": [],
   "source": [
    "def plotDecisionBoundary(model, X, y):\n",
    "    print(\"Plotting...\")\n",
    "\n",
    "    fig = plt.figure()\n",
    "    ax = fig.add_subplot(111)\n",
    "\n",
    "    padding = 0.1\n",
    "    resolution = 0.1\n",
    "\n",
    "    #(2 for benign, 4 for malignant)\n",
    "    colors = {2:'royalblue', 4:'lightsalmon'} \n",
    "\n",
    "\n",
    "    # Calculate the boundaris\n",
    "    x_min, x_max = X[:, 0].min(), X[:, 0].max()\n",
    "    y_min, y_max = X[:, 1].min(), X[:, 1].max()\n",
    "    x_range = x_max - x_min\n",
    "    y_range = y_max - y_min\n",
    "    x_min -= x_range * padding\n",
    "    y_min -= y_range * padding\n",
    "    x_max += x_range * padding\n",
    "    y_max += y_range * padding\n",
    "\n",
    "    # Create a 2D Grid Matrix. The values stored in the matrix\n",
    "    # are the predictions of the class at at said location\n",
    "    xx, yy = np.meshgrid(np.arange(x_min, x_max, resolution),\n",
    "                         np.arange(y_min, y_max, resolution))\n",
    "\n",
    "    # What class does the classifier say?\n",
    "    Z = model.predict(np.c_[xx.ravel(), yy.ravel()])\n",
    "    Z = Z.reshape(xx.shape)\n",
    "\n",
    "    # Plot the contour map\n",
    "    plt.contourf(xx, yy, Z, cmap=plt.cm.seismic)\n",
    "    plt.axis('tight')\n",
    "\n",
    "    # Plot your testing points as well...\n",
    "    for label in np.unique(y):\n",
    "        indices = np.where(y == label)\n",
    "        plt.scatter(X[indices, 0], X[indices, 1], c=colors[label], alpha=0.8)\n",
    "\n",
    "    p = model.get_params()\n",
    "    plt.title('K = ' + str(p['n_neighbors']))\n",
    "    plt.show()"
   ]
  },
  {
   "cell_type": "markdown",
   "metadata": {
    "collapsed": true
   },
   "source": [
    "### The Assignment"
   ]
  },
  {
   "cell_type": "markdown",
   "metadata": {
    "collapsed": true
   },
   "source": [
    "Load in the dataset, identify nans, and set proper headers. Be sure to verify the rows line up by looking at the file in a text editor."
   ]
  },
  {
   "cell_type": "code",
   "execution_count": 305,
   "metadata": {},
   "outputs": [
    {
     "name": "stdout",
     "output_type": "stream",
     "text": [
      "    sample  thickness  size  shape  adhesion  epithelial nuclei  chromatin  \\\n",
      "0  1000025          5     1      1         1           2      1          3   \n",
      "1  1002945          5     4      4         5           7     10          3   \n",
      "2  1015425          3     1      1         1           2      2          3   \n",
      "3  1016277          6     8      8         1           3      4          3   \n",
      "4  1017023          4     1      1         3           2      1          3   \n",
      "\n",
      "   nucleoli  mitoses  status  \n",
      "0         1        1       2  \n",
      "1         2        1       2  \n",
      "2         1        1       2  \n",
      "3         7        1       2  \n",
      "4         1        1       2  \n",
      "sample         int64\n",
      "thickness      int64\n",
      "size           int64\n",
      "shape          int64\n",
      "adhesion       int64\n",
      "epithelial     int64\n",
      "nuclei        object\n",
      "chromatin      int64\n",
      "nucleoli       int64\n",
      "mitoses        int64\n",
      "status         int64\n",
      "dtype: object\n",
      "sample          int64\n",
      "thickness       int64\n",
      "size            int64\n",
      "shape           int64\n",
      "adhesion        int64\n",
      "epithelial      int64\n",
      "nuclei        float64\n",
      "chromatin       int64\n",
      "nucleoli        int64\n",
      "mitoses         int64\n",
      "status          int64\n",
      "dtype: object\n"
     ]
    }
   ],
   "source": [
    "X = pd.read_csv('Datasets/breast-cancer-wisconsin.data', sep = \",\", names = ['sample', 'thickness', 'size', 'shape', 'adhesion', 'epithelial', 'nuclei', 'chromatin', 'nucleoli', 'mitoses', 'status'])\n",
    "print (X.head())\n",
    "print (X.dtypes)\n",
    "X.nuclei = pd.to_numeric(X.nuclei, errors = 'coerce')\n",
    "print (X.dtypes)"
   ]
  },
  {
   "cell_type": "markdown",
   "metadata": {},
   "source": [
    "Copy out the status column into a slice, then drop it from the main dataframe. Always verify you properly executed the drop by double checking (printing out the resulting operating)! Many people forget to set the right axis here.\n",
    "\n",
    "If you goofed up on loading the dataset and notice you have a `sample` column, this would be a good place to drop that too if you haven't already."
   ]
  },
  {
   "cell_type": "code",
   "execution_count": 306,
   "metadata": {},
   "outputs": [
    {
     "name": "stdout",
     "output_type": "stream",
     "text": [
      "     thickness  size  shape  adhesion  epithelial  nuclei  chromatin  \\\n",
      "0            5     1      1         1           2     1.0          3   \n",
      "1            5     4      4         5           7    10.0          3   \n",
      "2            3     1      1         1           2     2.0          3   \n",
      "3            6     8      8         1           3     4.0          3   \n",
      "4            4     1      1         3           2     1.0          3   \n",
      "5            8    10     10         8           7    10.0          9   \n",
      "6            1     1      1         1           2    10.0          3   \n",
      "7            2     1      2         1           2     1.0          3   \n",
      "8            2     1      1         1           2     1.0          1   \n",
      "9            4     2      1         1           2     1.0          2   \n",
      "10           1     1      1         1           1     1.0          3   \n",
      "11           2     1      1         1           2     1.0          2   \n",
      "12           5     3      3         3           2     3.0          4   \n",
      "13           1     1      1         1           2     3.0          3   \n",
      "14           8     7      5        10           7     9.0          5   \n",
      "15           7     4      6         4           6     1.0          4   \n",
      "16           4     1      1         1           2     1.0          2   \n",
      "17           4     1      1         1           2     1.0          3   \n",
      "18          10     7      7         6           4    10.0          4   \n",
      "19           6     1      1         1           2     1.0          3   \n",
      "20           7     3      2        10           5    10.0          5   \n",
      "21          10     5      5         3           6     7.0          7   \n",
      "22           3     1      1         1           2     1.0          2   \n",
      "23           8     4      5         1           2     NaN          7   \n",
      "24           1     1      1         1           2     1.0          3   \n",
      "25           5     2      3         4           2     7.0          3   \n",
      "26           3     2      1         1           1     1.0          2   \n",
      "27           5     1      1         1           2     1.0          2   \n",
      "28           2     1      1         1           2     1.0          2   \n",
      "29           1     1      3         1           2     1.0          1   \n",
      "..         ...   ...    ...       ...         ...     ...        ...   \n",
      "669          5    10     10         8           5     5.0          7   \n",
      "670          3    10      7         8           5     8.0          7   \n",
      "671          3     2      1         2           2     1.0          3   \n",
      "672          2     1      1         1           2     1.0          3   \n",
      "673          5     3      2         1           3     1.0          1   \n",
      "674          1     1      1         1           2     1.0          2   \n",
      "675          4     1      4         1           2     1.0          1   \n",
      "676          1     1      2         1           2     1.0          2   \n",
      "677          5     1      1         1           2     1.0          1   \n",
      "678          1     1      1         1           2     1.0          1   \n",
      "679          2     1      1         1           2     1.0          1   \n",
      "680         10    10     10        10           5    10.0         10   \n",
      "681          5    10     10        10           4    10.0          5   \n",
      "682          5     1      1         1           2     1.0          3   \n",
      "683          1     1      1         1           2     1.0          1   \n",
      "684          1     1      1         1           2     1.0          1   \n",
      "685          1     1      1         1           2     1.0          1   \n",
      "686          1     1      1         1           2     1.0          1   \n",
      "687          3     1      1         1           2     1.0          2   \n",
      "688          4     1      1         1           2     1.0          1   \n",
      "689          1     1      1         1           2     1.0          1   \n",
      "690          1     1      1         3           2     1.0          1   \n",
      "691          5    10     10         5           4     5.0          4   \n",
      "692          3     1      1         1           2     1.0          1   \n",
      "693          3     1      1         1           2     1.0          2   \n",
      "694          3     1      1         1           3     2.0          1   \n",
      "695          2     1      1         1           2     1.0          1   \n",
      "696          5    10     10         3           7     3.0          8   \n",
      "697          4     8      6         4           3     4.0         10   \n",
      "698          4     8      8         5           4     5.0         10   \n",
      "\n",
      "     nucleoli  mitoses  \n",
      "0           1        1  \n",
      "1           2        1  \n",
      "2           1        1  \n",
      "3           7        1  \n",
      "4           1        1  \n",
      "5           7        1  \n",
      "6           1        1  \n",
      "7           1        1  \n",
      "8           1        5  \n",
      "9           1        1  \n",
      "10          1        1  \n",
      "11          1        1  \n",
      "12          4        1  \n",
      "13          1        1  \n",
      "14          5        4  \n",
      "15          3        1  \n",
      "16          1        1  \n",
      "17          1        1  \n",
      "18          1        2  \n",
      "19          1        1  \n",
      "20          4        4  \n",
      "21         10        1  \n",
      "22          1        1  \n",
      "23          3        1  \n",
      "24          1        1  \n",
      "25          6        1  \n",
      "26          1        1  \n",
      "27          1        1  \n",
      "28          1        1  \n",
      "29          1        1  \n",
      "..        ...      ...  \n",
      "669        10        1  \n",
      "670         4        1  \n",
      "671         1        1  \n",
      "672         1        1  \n",
      "673         1        1  \n",
      "674         1        1  \n",
      "675         1        1  \n",
      "676         1        1  \n",
      "677         1        1  \n",
      "678         1        1  \n",
      "679         1        1  \n",
      "680        10        7  \n",
      "681         6        3  \n",
      "682         2        1  \n",
      "683         1        1  \n",
      "684         1        1  \n",
      "685         1        1  \n",
      "686         1        1  \n",
      "687         3        1  \n",
      "688         1        1  \n",
      "689         1        8  \n",
      "690         1        1  \n",
      "691         4        1  \n",
      "692         1        1  \n",
      "693         1        2  \n",
      "694         1        1  \n",
      "695         1        1  \n",
      "696        10        2  \n",
      "697         6        1  \n",
      "698         4        1  \n",
      "\n",
      "[699 rows x 9 columns]\n"
     ]
    }
   ],
   "source": [
    "y = X['status'].copy()\n",
    "X = X.drop(['status', 'sample'], axis=1)\n",
    "print (X)"
   ]
  },
  {
   "cell_type": "markdown",
   "metadata": {},
   "source": [
    "With the labels safely extracted from the dataset, replace any nan values with the mean feature / column value:"
   ]
  },
  {
   "cell_type": "code",
   "execution_count": 307,
   "metadata": {
    "collapsed": true
   },
   "outputs": [],
   "source": [
    "X = X.fillna(X.mean())"
   ]
  },
  {
   "cell_type": "markdown",
   "metadata": {},
   "source": [
    "Do train_test_split. Use the same variable names as on the EdX platform in the reading material, but set the random_state=7 for reproducibility, and keep the test_size at 0.5 (50%)."
   ]
  },
  {
   "cell_type": "code",
   "execution_count": 308,
   "metadata": {
    "collapsed": true
   },
   "outputs": [],
   "source": [
    "from sklearn.model_selection import train_test_split\n",
    "X_train, X_test, y_train, y_test = train_test_split(X, y, test_size=0.50, random_state=7)"
   ]
  },
  {
   "cell_type": "markdown",
   "metadata": {},
   "source": [
    "Experiment with the basic SKLearn preprocessing scalers. We know that the features consist of different units mixed in together, so it might be reasonable to assume feature scaling is necessary. Print out a description of the dataset, post transformation. Recall: when you do pre-processing, which portion of the dataset is your model trained upon? Also which portion(s) of your dataset actually get transformed?"
   ]
  },
  {
   "cell_type": "code",
   "execution_count": 309,
   "metadata": {},
   "outputs": [
    {
     "data": {
      "text/html": [
       "<div>\n",
       "<style>\n",
       "    .dataframe thead tr:only-child th {\n",
       "        text-align: right;\n",
       "    }\n",
       "\n",
       "    .dataframe thead th {\n",
       "        text-align: left;\n",
       "    }\n",
       "\n",
       "    .dataframe tbody tr th {\n",
       "        vertical-align: top;\n",
       "    }\n",
       "</style>\n",
       "<table border=\"1\" class=\"dataframe\">\n",
       "  <thead>\n",
       "    <tr style=\"text-align: right;\">\n",
       "      <th></th>\n",
       "      <th>thickness</th>\n",
       "      <th>size</th>\n",
       "      <th>shape</th>\n",
       "      <th>adhesion</th>\n",
       "      <th>epithelial</th>\n",
       "      <th>nuclei</th>\n",
       "      <th>chromatin</th>\n",
       "      <th>nucleoli</th>\n",
       "      <th>mitoses</th>\n",
       "    </tr>\n",
       "  </thead>\n",
       "  <tbody>\n",
       "    <tr>\n",
       "      <th>count</th>\n",
       "      <td>349.000000</td>\n",
       "      <td>349.000000</td>\n",
       "      <td>349.000000</td>\n",
       "      <td>349.000000</td>\n",
       "      <td>349.000000</td>\n",
       "      <td>349.000000</td>\n",
       "      <td>349.000000</td>\n",
       "      <td>349.000000</td>\n",
       "      <td>349.000000</td>\n",
       "    </tr>\n",
       "    <tr>\n",
       "      <th>mean</th>\n",
       "      <td>4.495702</td>\n",
       "      <td>3.212034</td>\n",
       "      <td>3.326648</td>\n",
       "      <td>2.888252</td>\n",
       "      <td>3.289398</td>\n",
       "      <td>3.529037</td>\n",
       "      <td>3.469914</td>\n",
       "      <td>2.896848</td>\n",
       "      <td>1.621777</td>\n",
       "    </tr>\n",
       "    <tr>\n",
       "      <th>std</th>\n",
       "      <td>2.946478</td>\n",
       "      <td>3.159691</td>\n",
       "      <td>3.067611</td>\n",
       "      <td>2.887071</td>\n",
       "      <td>2.305522</td>\n",
       "      <td>3.651567</td>\n",
       "      <td>2.406250</td>\n",
       "      <td>3.075808</td>\n",
       "      <td>1.814750</td>\n",
       "    </tr>\n",
       "    <tr>\n",
       "      <th>min</th>\n",
       "      <td>1.000000</td>\n",
       "      <td>1.000000</td>\n",
       "      <td>1.000000</td>\n",
       "      <td>1.000000</td>\n",
       "      <td>1.000000</td>\n",
       "      <td>1.000000</td>\n",
       "      <td>1.000000</td>\n",
       "      <td>1.000000</td>\n",
       "      <td>1.000000</td>\n",
       "    </tr>\n",
       "    <tr>\n",
       "      <th>25%</th>\n",
       "      <td>2.000000</td>\n",
       "      <td>1.000000</td>\n",
       "      <td>1.000000</td>\n",
       "      <td>1.000000</td>\n",
       "      <td>2.000000</td>\n",
       "      <td>1.000000</td>\n",
       "      <td>2.000000</td>\n",
       "      <td>1.000000</td>\n",
       "      <td>1.000000</td>\n",
       "    </tr>\n",
       "    <tr>\n",
       "      <th>50%</th>\n",
       "      <td>4.000000</td>\n",
       "      <td>1.000000</td>\n",
       "      <td>2.000000</td>\n",
       "      <td>1.000000</td>\n",
       "      <td>2.000000</td>\n",
       "      <td>1.000000</td>\n",
       "      <td>3.000000</td>\n",
       "      <td>1.000000</td>\n",
       "      <td>1.000000</td>\n",
       "    </tr>\n",
       "    <tr>\n",
       "      <th>75%</th>\n",
       "      <td>6.000000</td>\n",
       "      <td>5.000000</td>\n",
       "      <td>5.000000</td>\n",
       "      <td>4.000000</td>\n",
       "      <td>4.000000</td>\n",
       "      <td>7.000000</td>\n",
       "      <td>5.000000</td>\n",
       "      <td>3.000000</td>\n",
       "      <td>1.000000</td>\n",
       "    </tr>\n",
       "    <tr>\n",
       "      <th>max</th>\n",
       "      <td>10.000000</td>\n",
       "      <td>10.000000</td>\n",
       "      <td>10.000000</td>\n",
       "      <td>10.000000</td>\n",
       "      <td>10.000000</td>\n",
       "      <td>10.000000</td>\n",
       "      <td>10.000000</td>\n",
       "      <td>10.000000</td>\n",
       "      <td>10.000000</td>\n",
       "    </tr>\n",
       "  </tbody>\n",
       "</table>\n",
       "</div>"
      ],
      "text/plain": [
       "        thickness        size       shape    adhesion  epithelial      nuclei  \\\n",
       "count  349.000000  349.000000  349.000000  349.000000  349.000000  349.000000   \n",
       "mean     4.495702    3.212034    3.326648    2.888252    3.289398    3.529037   \n",
       "std      2.946478    3.159691    3.067611    2.887071    2.305522    3.651567   \n",
       "min      1.000000    1.000000    1.000000    1.000000    1.000000    1.000000   \n",
       "25%      2.000000    1.000000    1.000000    1.000000    2.000000    1.000000   \n",
       "50%      4.000000    1.000000    2.000000    1.000000    2.000000    1.000000   \n",
       "75%      6.000000    5.000000    5.000000    4.000000    4.000000    7.000000   \n",
       "max     10.000000   10.000000   10.000000   10.000000   10.000000   10.000000   \n",
       "\n",
       "        chromatin    nucleoli     mitoses  \n",
       "count  349.000000  349.000000  349.000000  \n",
       "mean     3.469914    2.896848    1.621777  \n",
       "std      2.406250    3.075808    1.814750  \n",
       "min      1.000000    1.000000    1.000000  \n",
       "25%      2.000000    1.000000    1.000000  \n",
       "50%      3.000000    1.000000    1.000000  \n",
       "75%      5.000000    3.000000    1.000000  \n",
       "max     10.000000   10.000000   10.000000  "
      ]
     },
     "execution_count": 309,
     "metadata": {},
     "output_type": "execute_result"
    }
   ],
   "source": [
    "from sklearn import preprocessing\n",
    "X_Train_Trans = X_train\n",
    "StandardScaler_X_train = preprocessing.StandardScaler().fit_transform(X_train)\n",
    "StandardScaler_X_test = preprocessing.StandardScaler().fit_transform(X_test)\n",
    "\n",
    "MinMaxScaler_X_train = preprocessing.MinMaxScaler().fit_transform(X_train)\n",
    "MinMaxScaler_X_test = preprocessing.MinMaxScaler().fit_transform(X_test)\n",
    "\n",
    "\n",
    "MaxAbsScaler_X_train = preprocessing.MaxAbsScaler().fit_transform(X_train)\n",
    "MaxAbsScaler_X_test = preprocessing.MaxAbsScaler().fit_transform(X_test)\n",
    "\n",
    "Normalizer_X_train = preprocessing.Normalizer().fit_transform(X_train)\n",
    "Normalizer_X_test = preprocessing.Normalizer().fit_transform(X_test)\n",
    "T = X_train # No Change\n",
    "T.describe()\n"
   ]
  },
  {
   "cell_type": "markdown",
   "metadata": {},
   "source": [
    "### Dimensionality Reduction"
   ]
  },
  {
   "cell_type": "markdown",
   "metadata": {},
   "source": [
    "PCA and Isomap are your new best friends"
   ]
  },
  {
   "cell_type": "code",
   "execution_count": 357,
   "metadata": {},
   "outputs": [
    {
     "name": "stdout",
     "output_type": "stream",
     "text": [
      "Computing 2D Isomap Manifold\n"
     ]
    }
   ],
   "source": [
    "model = None\n",
    "\n",
    "if Test_PCA:\n",
    "    print('Computing 2D Principle Components')\n",
    "    # TODO: Implement PCA here. Save your model into the variable 'model'.\n",
    "    # You should reduce down to two dimensions.\n",
    "    model = PCA(n_components = 2, svd_solver = \"randomized\")\n",
    "   \n",
    "else:\n",
    "    print('Computing 2D Isomap Manifold')\n",
    "    # TODO: Implement Isomap here. Save your model into the variable 'model'\n",
    "    # Experiment with K values from 5-10.\n",
    "    # You should reduce down to two dimensions.\n",
    "    model = Isomap(n_neighbors = 8 , n_components =2)\n",
    "\n",
    "    "
   ]
  },
  {
   "cell_type": "markdown",
   "metadata": {},
   "source": [
    "Train your model against data_train, then transform both `data_train` and `data_test` using your model. You can save the results right back into the variables themselves."
   ]
  },
  {
   "cell_type": "code",
   "execution_count": 311,
   "metadata": {
    "collapsed": true
   },
   "outputs": [],
   "source": [
    "data_train = model.fit_transform(Normalizer_X_train)\n",
    "data_test = model.transform(Normalizer_X_test)"
   ]
  },
  {
   "cell_type": "markdown",
   "metadata": {},
   "source": [
    "Implement and train `KNeighborsClassifier` on your projected 2D training data here. You can name your variable `knmodel`. You can use any `K` value from 1 - 15, so play around with it and see what results you can come up. Your goal is to find a good balance where you aren't too specific (low-K), nor are you too general (high-K). You should also experiment with how changing the weights parameter affects the results."
   ]
  },
  {
   "cell_type": "code",
   "execution_count": 312,
   "metadata": {
    "scrolled": true
   },
   "outputs": [
    {
     "data": {
      "text/plain": [
       "KNeighborsClassifier(algorithm='auto', leaf_size=30, metric='minkowski',\n",
       "           metric_params=None, n_jobs=1, n_neighbors=10, p=2,\n",
       "           weights='uniform')"
      ]
     },
     "execution_count": 312,
     "metadata": {},
     "output_type": "execute_result"
    }
   ],
   "source": [
    "from sklearn.neighbors import KNeighborsClassifier\n",
    "knmodel = KNeighborsClassifier(n_neighbors=10)\n",
    "knmodel.fit(data_train, y_train)"
   ]
  },
  {
   "cell_type": "markdown",
   "metadata": {},
   "source": [
    "Be sure to always keep the domain of the problem in mind! It's WAY more important to errantly classify a benign tumor as malignant, and have it removed, than to incorrectly leave a malignant tumor, believing it to be benign, and then having the patient progress in cancer. Since the UDF weights don't give you any class information, the only way to introduce this data into SKLearn's KNN Classifier is by \"baking\" it into your data. For example, randomly reducing the ratio of benign samples compared to malignant samples from the training set."
   ]
  },
  {
   "cell_type": "markdown",
   "metadata": {
    "collapsed": true
   },
   "source": [
    "Calculate and display the accuracy of the testing set:"
   ]
  },
  {
   "cell_type": "code",
   "execution_count": 313,
   "metadata": {},
   "outputs": [
    {
     "name": "stdout",
     "output_type": "stream",
     "text": [
      "0.822857142857\n"
     ]
    }
   ],
   "source": [
    "accuracy = knmodel.score(data_test,y_test)\n",
    "print (accuracy)"
   ]
  },
  {
   "cell_type": "code",
   "execution_count": 345,
   "metadata": {},
   "outputs": [
    {
     "name": "stdout",
     "output_type": "stream",
     "text": [
      "5\n"
     ]
    },
    {
     "ename": "AttributeError",
     "evalue": "'tuple' object has no attribute 'append'",
     "output_type": "error",
     "traceback": [
      "\u001b[0;31m---------------------------------------------------------------------------\u001b[0m",
      "\u001b[0;31mAttributeError\u001b[0m                            Traceback (most recent call last)",
      "\u001b[0;32m<ipython-input-345-211fd751ce9e>\u001b[0m in \u001b[0;36m<module>\u001b[0;34m()\u001b[0m\n\u001b[1;32m     10\u001b[0m             \u001b[0mknmodel\u001b[0m\u001b[0;34m.\u001b[0m\u001b[0mfit\u001b[0m\u001b[0;34m(\u001b[0m\u001b[0mdata_train\u001b[0m\u001b[0;34m,\u001b[0m \u001b[0my_train\u001b[0m\u001b[0;34m)\u001b[0m\u001b[0;34m\u001b[0m\u001b[0m\n\u001b[1;32m     11\u001b[0m             \u001b[0maccuracy\u001b[0m \u001b[0;34m=\u001b[0m \u001b[0mknmodel\u001b[0m\u001b[0;34m.\u001b[0m\u001b[0mscore\u001b[0m\u001b[0;34m(\u001b[0m\u001b[0mdata_test\u001b[0m\u001b[0;34m,\u001b[0m\u001b[0my_test\u001b[0m\u001b[0;34m)\u001b[0m\u001b[0;34m\u001b[0m\u001b[0m\n\u001b[0;32m---> 12\u001b[0;31m             \u001b[0marray1\u001b[0m\u001b[0;34m.\u001b[0m\u001b[0mappend\u001b[0m\u001b[0;34m(\u001b[0m\u001b[0mweights\u001b[0m\u001b[0;34m,\u001b[0m \u001b[0mn_neighbors_\u001b[0m\u001b[0;34m,\u001b[0m \u001b[0maccuracy\u001b[0m\u001b[0;34m)\u001b[0m\u001b[0;34m\u001b[0m\u001b[0m\n\u001b[0m\u001b[1;32m     13\u001b[0m \u001b[0;34m\u001b[0m\u001b[0m\n\u001b[1;32m     14\u001b[0m \u001b[0;34m\u001b[0m\u001b[0m\n",
      "\u001b[0;31mAttributeError\u001b[0m: 'tuple' object has no attribute 'append'"
     ]
    }
   ],
   "source": [
    "array1 = ()\n",
    "for i in range(5,10):\n",
    "    print (i)\n",
    "    model = Isomap(n_neighbors = i , n_components =2)\n",
    "    for n_neighbors_ in range(5,15):\n",
    "        for weights in ['uniform', 'distance']:\n",
    "            data_train = model.fit_transform(MinMaxScaler_X_train)\n",
    "            data_test = model.transform(MinMaxScaler_X_test)\n",
    "            knmodel = KNeighborsClassifier(n_neighbors=n_neighbors_, weights=weights)\n",
    "            knmodel.fit(data_train, y_train)\n",
    "            accuracy = knmodel.score(data_test,y_test)\n",
    "            array1.append(weights, n_neighbors_, accuracy)\n",
    "\n",
    "        \n",
    "        "
   ]
  },
  {
   "cell_type": "code",
   "execution_count": 355,
   "metadata": {},
   "outputs": [
    {
     "name": "stdout",
     "output_type": "stream",
     "text": [
      "5\n",
      "Best parameters of knn: {'weights': 'uniform', 'n_neighbors': 8}\n",
      "Best scrore of knn: 0.9742120343839542\n",
      "6\n",
      "Best parameters of knn: {'weights': 'uniform', 'n_neighbors': 5}\n",
      "Best scrore of knn: 0.9742120343839542\n",
      "7\n",
      "Best parameters of knn: {'weights': 'uniform', 'n_neighbors': 8}\n",
      "Best scrore of knn: 0.9742120343839542\n",
      "8\n",
      "Best parameters of knn: {'weights': 'distance', 'n_neighbors': 13}\n",
      "Best scrore of knn: 0.9770773638968482\n",
      "9\n",
      "Best parameters of knn: {'weights': 'uniform', 'n_neighbors': 8}\n",
      "Best scrore of knn: 0.9742120343839542\n"
     ]
    }
   ],
   "source": [
    "from sklearn.svm import SVC\n",
    "from sklearn.grid_search import GridSearchCV\n",
    "\n",
    "for i in range(5,10):\n",
    "    model = Isomap(n_neighbors = i , n_components =2)\n",
    "    data_train = model.fit_transform(MinMaxScaler_X_train)\n",
    "    data_test = model.transform(MinMaxScaler_X_test)\n",
    "    knmodel = KNeighborsClassifier()\n",
    "    param_grid = {\"n_neighbors\" : [5,6,7,8,9,10,11,12,13,14,15], \"weights\" : [\"distance\",\"uniform\"]}\n",
    "    grid_search = GridSearchCV(knmodel, param_grid=param_grid, cv=10)\n",
    "    grid_search.fit(data_train, y_train)\n",
    "    print (i)\n",
    "    print ('Best parameters of knn:' , grid_search.best_params_)\n",
    "    print ('Best scrore of knn:', grid_search.best_score_)"
   ]
  },
  {
   "cell_type": "markdown",
   "metadata": {},
   "source": [
    "Distance, because each data point should contribute to the classification weighted by distance."
   ]
  },
  {
   "cell_type": "code",
   "execution_count": 358,
   "metadata": {},
   "outputs": [
    {
     "name": "stdout",
     "output_type": "stream",
     "text": [
      "Plotting...\n"
     ]
    },
    {
     "data": {
      "image/png": "[encoded data removed]",
      "text/plain": [
       "<matplotlib.figure.Figure at 0x10dce0518>"
      ]
     },
     "metadata": {},
     "output_type": "display_data"
    }
   ],
   "source": [
    "data_train = model.fit_transform(MinMaxScaler_X_train)\n",
    "data_test = model.transform(MinMaxScaler_X_test)\n",
    "knmodel = KNeighborsClassifier(n_neighbors=13, weights=\"distance\")\n",
    "knmodel.fit(data_train, y_train)\n",
    "plotDecisionBoundary(knmodel, data_test, y_test)"
   ]
  },
  {
   "cell_type": "code",
   "execution_count": null,
   "metadata": {
    "collapsed": true
   },
   "outputs": [],
   "source": []
  },
  {
   "cell_type": "code",
   "execution_count": null,
   "metadata": {
    "collapsed": true
   },
   "outputs": [],
   "source": []
  }
 ],
 "metadata": {
  "anaconda-cloud": {},
  "kernelspec": {
   "display_name": "Python 3",
   "language": "python",
   "name": "python3"
  },
  "language_info": {
   "codemirror_mode": {
    "name": "ipython",
    "version": 3
   },
   "file_extension": ".py",
   "mimetype": "text/x-python",
   "name": "python",
   "nbconvert_exporter": "python",
   "pygments_lexer": "ipython3",
   "version": "3.4.2"
  },
  "toc": {
   "colors": {
    "hover_highlight": "#DAA520",
    "running_highlight": "#FF0000",
    "selected_highlight": "#FFD700"
   },
   "moveMenuLeft": true,
   "nav_menu": {
    "height": "58px",
    "width": "252px"
   },
   "navigate_menu": true,
   "number_sections": true,
   "sideBar": true,
   "threshold": 4,
   "toc_cell": false,
   "toc_section_display": "block",
   "toc_window_display": false,
   "widenNotebook": false
  }
 },
 "nbformat": 4,
 "nbformat_minor": 2
}
