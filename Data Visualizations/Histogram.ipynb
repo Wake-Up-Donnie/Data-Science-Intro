{
 "cells": [
  {
   "cell_type": "markdown",
   "metadata": {},
   "source": [
    "# DAT210x - Programming with Python for DS"
   ]
  },
  {
   "cell_type": "markdown",
   "metadata": {},
   "source": [
    "## Module3 - Lab1"
   ]
  },
  {
   "cell_type": "code",
   "execution_count": 3,
   "metadata": {},
   "outputs": [],
   "source": [
    "import pandas as pd\n",
    "import matplotlib.pyplot as plt\n",
    "import matplotlib"
   ]
  },
  {
   "cell_type": "code",
   "execution_count": 4,
   "metadata": {
    "collapsed": true
   },
   "outputs": [],
   "source": [
    "# Look pretty...\n",
    "# matplotlib.style.use('ggplot')\n",
    "plt.style.use('ggplot')"
   ]
  },
  {
   "cell_type": "markdown",
   "metadata": {},
   "source": [
    "Load up the wheat seeds dataset into a dataframe. We've stored a copy in the Datasets directory."
   ]
  },
  {
   "cell_type": "code",
   "execution_count": 22,
   "metadata": {},
   "outputs": [],
   "source": [
    "df = pd.read_csv(\"Datasets/wheat.data\", sep=',')"
   ]
  },
  {
   "cell_type": "markdown",
   "metadata": {},
   "source": [
    "Create a slice from your dataframe and name the variable `s1`. It should only include the `area` and `perimeter` features."
   ]
  },
  {
   "cell_type": "code",
   "execution_count": 24,
   "metadata": {},
   "outputs": [
    {
     "name": "stdout",
     "output_type": "stream",
     "text": [
      "      area  perimeter\n",
      "0    15.26      14.84\n",
      "1    14.88      14.57\n",
      "2    14.29      14.09\n",
      "3    13.84      13.94\n",
      "4    16.14      14.99\n",
      "5    14.38      14.21\n",
      "6    14.69      14.49\n",
      "7    14.11      14.10\n",
      "8    16.63      15.46\n",
      "9    16.44      15.25\n",
      "10   15.26      14.85\n",
      "11   14.03      14.16\n",
      "12   13.89      14.02\n",
      "13   13.78      14.06\n",
      "14   13.74      14.05\n",
      "15   14.59      14.28\n",
      "16   13.99      13.83\n",
      "17   15.69      14.75\n",
      "18   14.70      14.21\n",
      "19   12.72      13.57\n",
      "20   14.16      14.40\n",
      "21   14.11      14.26\n",
      "22   15.88      14.90\n",
      "23   12.08      13.23\n",
      "24   15.01      14.76\n",
      "25   16.19      15.16\n",
      "26   13.02      13.76\n",
      "27   12.74      13.67\n",
      "28   14.11      14.18\n",
      "29   13.45      14.02\n",
      "..     ...        ...\n",
      "180  11.41      12.95\n",
      "181  12.46      13.41\n",
      "182  12.19      13.36\n",
      "183  11.65      13.07\n",
      "184  12.89      13.77\n",
      "185  11.56      13.31\n",
      "186  11.81      13.45\n",
      "187  10.91      12.80\n",
      "188  11.23      12.82\n",
      "189  10.59      12.41\n",
      "190  10.93      12.80\n",
      "191  11.27      12.86\n",
      "192  11.87      13.02\n",
      "193  10.82      12.83\n",
      "194  12.11      13.27\n",
      "195  12.80      13.47\n",
      "196  12.79      13.53\n",
      "197  13.37      13.78\n",
      "198  12.62      13.67\n",
      "199  12.76      13.38\n",
      "200  12.38      13.44\n",
      "201  12.67      13.32\n",
      "202  11.18      12.72\n",
      "203  12.70      13.41\n",
      "204  12.37      13.47\n",
      "205  12.19      13.20\n",
      "206  11.23      12.88\n",
      "207  13.20      13.66\n",
      "208  11.84      13.21\n",
      "209  12.30      13.34\n",
      "\n",
      "[210 rows x 2 columns]\n"
     ]
    }
   ],
   "source": [
    "s1 = df[['area','perimeter']]\n",
    "print (s1)"
   ]
  },
  {
   "cell_type": "markdown",
   "metadata": {},
   "source": [
    "Create another slice of from dataframe called it `s2` this time. Slice out only the `groove` and `asymmetry` features:"
   ]
  },
  {
   "cell_type": "code",
   "execution_count": 25,
   "metadata": {
    "collapsed": true
   },
   "outputs": [],
   "source": [
    "s2 = df[['groove', 'asymmetry']]"
   ]
  },
  {
   "cell_type": "markdown",
   "metadata": {},
   "source": [
    "Create a histogram plot using the first slice, and another histogram plot using the second slice. Be sure to set `alpha=0.75`."
   ]
  },
  {
   "cell_type": "code",
   "execution_count": 31,
   "metadata": {},
   "outputs": [
    {
     "data": {
      "text/plain": [
       "<matplotlib.axes._subplots.AxesSubplot at 0x10a28ff28>"
      ]
     },
     "execution_count": 31,
     "metadata": {},
     "output_type": "execute_result"
    }
   ],
   "source": [
    "(s1.plot.hist(alpha=0.75))\n",
    "(s2.plot.hist(alpha=0.75))\n"
   ]
  },
  {
   "cell_type": "code",
   "execution_count": 32,
   "metadata": {},
   "outputs": [
    {
     "data": {
      "image/png": "[encoded data removed]",
      "text/plain": [
       "<matplotlib.figure.Figure at 0x10a53db00>"
      ]
     },
     "metadata": {},
     "output_type": "display_data"
    },
    {
     "data": {
      "image/png": "[encoded data removed]",
      "text/plain": [
       "<matplotlib.figure.Figure at 0x10a5380f0>"
      ]
     },
     "metadata": {},
     "output_type": "display_data"
    }
   ],
   "source": [
    "# Display the graphs:\n",
    "plt.show()"
   ]
  },
  {
   "cell_type": "code",
   "execution_count": null,
   "metadata": {
    "collapsed": true
   },
   "outputs": [],
   "source": []
  }
 ],
 "metadata": {
  "anaconda-cloud": {},
  "kernelspec": {
   "display_name": "Python 3",
   "language": "python",
   "name": "python3"
  },
  "language_info": {
   "codemirror_mode": {
    "name": "ipython",
    "version": 3
   },
   "file_extension": ".py",
   "mimetype": "text/x-python",
   "name": "python",
   "nbconvert_exporter": "python",
   "pygments_lexer": "ipython3",
   "version": "3.4.2"
  },
  "toc": {
   "colors": {
    "hover_highlight": "#DAA520",
    "running_highlight": "#FF0000",
    "selected_highlight": "#FFD700"
   },
   "moveMenuLeft": true,
   "nav_menu": {
    "height": "58px",
    "width": "252px"
   },
   "navigate_menu": true,
   "number_sections": true,
   "sideBar": true,
   "threshold": 4,
   "toc_cell": false,
   "toc_section_display": "block",
   "toc_window_display": false,
   "widenNotebook": false
  }
 },
 "nbformat": 4,
 "nbformat_minor": 2
}
